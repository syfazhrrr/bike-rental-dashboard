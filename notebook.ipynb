{
  "cells": [
    {
      "cell_type": "markdown",
      "metadata": {
        "id": "H9wADwK78DCz"
      },
      "source": [
        "# Proyek Analisis Data: Bike Sharing Dataset\n",
        "- **Nama:** Syifa Azzahra Susilo\n",
        "- **Email:** syifaazzahrasusilo@mail.ugm.ac.id\n",
        "- **ID Dicoding:** MC008D5X2087"
      ]
    },
    {
      "cell_type": "markdown",
      "metadata": {
        "id": "eE0raob58DC0"
      },
      "source": [
        "## Menentukan Pertanyaan Bisnis"
      ]
    },
    {
      "cell_type": "markdown",
      "metadata": {
        "id": "GmQeQ5YF8DC0"
      },
      "source": [
        "- Pertanyaan 1: Bagaimana pengaruh kondisi cuaca terhadap jumlah peminjaman sepeda?\n",
        "- Pertanyaan 2: Apakah ada perbedaan pola peminjaman antara hari kerja dan akhir pekan?\n",
        "- Pertanyaan 3: Kapan waktu dengan permintaan tertinggi dan terendah untuk peminjaman sepeda?"
      ]
    },
    {
      "cell_type": "markdown",
      "metadata": {
        "id": "H-z4QGlO8DC1"
      },
      "source": [
        "## Import Semua Packages/Library yang Digunakan"
      ]
    },
    {
      "cell_type": "code",
      "execution_count": 1,
      "metadata": {
        "id": "FVYwaObI8DC1"
      },
      "outputs": [],
      "source": [
        "import pandas as pd\n",
        "import numpy as np\n",
        "import matplotlib.pyplot as plt\n",
        "import seaborn as sns"
      ]
    },
    {
      "cell_type": "markdown",
      "metadata": {
        "id": "h_Sh51Xy8DC1"
      },
      "source": [
        "## Data Wrangling"
      ]
    },
    {
      "cell_type": "markdown",
      "metadata": {
        "id": "sXU2GBYu8DC1"
      },
      "source": [
        "### Gathering Data"
      ]
    },
    {
      "cell_type": "code",
      "execution_count": 2,
      "metadata": {
        "id": "zjCBk1BI8DC1"
      },
      "outputs": [
        {
          "data": {
            "text/html": [
              "<div>\n",
              "<style scoped>\n",
              "    .dataframe tbody tr th:only-of-type {\n",
              "        vertical-align: middle;\n",
              "    }\n",
              "\n",
              "    .dataframe tbody tr th {\n",
              "        vertical-align: top;\n",
              "    }\n",
              "\n",
              "    .dataframe thead th {\n",
              "        text-align: right;\n",
              "    }\n",
              "</style>\n",
              "<table border=\"1\" class=\"dataframe\">\n",
              "  <thead>\n",
              "    <tr style=\"text-align: right;\">\n",
              "      <th></th>\n",
              "      <th>instant</th>\n",
              "      <th>dteday</th>\n",
              "      <th>season</th>\n",
              "      <th>yr</th>\n",
              "      <th>mnth</th>\n",
              "      <th>holiday</th>\n",
              "      <th>weekday</th>\n",
              "      <th>workingday</th>\n",
              "      <th>weathersit</th>\n",
              "      <th>temp</th>\n",
              "      <th>atemp</th>\n",
              "      <th>hum</th>\n",
              "      <th>windspeed</th>\n",
              "      <th>casual</th>\n",
              "      <th>registered</th>\n",
              "      <th>cnt</th>\n",
              "    </tr>\n",
              "  </thead>\n",
              "  <tbody>\n",
              "    <tr>\n",
              "      <th>0</th>\n",
              "      <td>1</td>\n",
              "      <td>2011-01-01</td>\n",
              "      <td>1</td>\n",
              "      <td>0</td>\n",
              "      <td>1</td>\n",
              "      <td>0</td>\n",
              "      <td>6</td>\n",
              "      <td>0</td>\n",
              "      <td>2</td>\n",
              "      <td>0.344167</td>\n",
              "      <td>0.363625</td>\n",
              "      <td>0.805833</td>\n",
              "      <td>0.160446</td>\n",
              "      <td>331</td>\n",
              "      <td>654</td>\n",
              "      <td>985</td>\n",
              "    </tr>\n",
              "    <tr>\n",
              "      <th>1</th>\n",
              "      <td>2</td>\n",
              "      <td>2011-01-02</td>\n",
              "      <td>1</td>\n",
              "      <td>0</td>\n",
              "      <td>1</td>\n",
              "      <td>0</td>\n",
              "      <td>0</td>\n",
              "      <td>0</td>\n",
              "      <td>2</td>\n",
              "      <td>0.363478</td>\n",
              "      <td>0.353739</td>\n",
              "      <td>0.696087</td>\n",
              "      <td>0.248539</td>\n",
              "      <td>131</td>\n",
              "      <td>670</td>\n",
              "      <td>801</td>\n",
              "    </tr>\n",
              "    <tr>\n",
              "      <th>2</th>\n",
              "      <td>3</td>\n",
              "      <td>2011-01-03</td>\n",
              "      <td>1</td>\n",
              "      <td>0</td>\n",
              "      <td>1</td>\n",
              "      <td>0</td>\n",
              "      <td>1</td>\n",
              "      <td>1</td>\n",
              "      <td>1</td>\n",
              "      <td>0.196364</td>\n",
              "      <td>0.189405</td>\n",
              "      <td>0.437273</td>\n",
              "      <td>0.248309</td>\n",
              "      <td>120</td>\n",
              "      <td>1229</td>\n",
              "      <td>1349</td>\n",
              "    </tr>\n",
              "    <tr>\n",
              "      <th>3</th>\n",
              "      <td>4</td>\n",
              "      <td>2011-01-04</td>\n",
              "      <td>1</td>\n",
              "      <td>0</td>\n",
              "      <td>1</td>\n",
              "      <td>0</td>\n",
              "      <td>2</td>\n",
              "      <td>1</td>\n",
              "      <td>1</td>\n",
              "      <td>0.200000</td>\n",
              "      <td>0.212122</td>\n",
              "      <td>0.590435</td>\n",
              "      <td>0.160296</td>\n",
              "      <td>108</td>\n",
              "      <td>1454</td>\n",
              "      <td>1562</td>\n",
              "    </tr>\n",
              "    <tr>\n",
              "      <th>4</th>\n",
              "      <td>5</td>\n",
              "      <td>2011-01-05</td>\n",
              "      <td>1</td>\n",
              "      <td>0</td>\n",
              "      <td>1</td>\n",
              "      <td>0</td>\n",
              "      <td>3</td>\n",
              "      <td>1</td>\n",
              "      <td>1</td>\n",
              "      <td>0.226957</td>\n",
              "      <td>0.229270</td>\n",
              "      <td>0.436957</td>\n",
              "      <td>0.186900</td>\n",
              "      <td>82</td>\n",
              "      <td>1518</td>\n",
              "      <td>1600</td>\n",
              "    </tr>\n",
              "  </tbody>\n",
              "</table>\n",
              "</div>"
            ],
            "text/plain": [
              "   instant      dteday  season  yr  mnth  holiday  weekday  workingday  \\\n",
              "0        1  2011-01-01       1   0     1        0        6           0   \n",
              "1        2  2011-01-02       1   0     1        0        0           0   \n",
              "2        3  2011-01-03       1   0     1        0        1           1   \n",
              "3        4  2011-01-04       1   0     1        0        2           1   \n",
              "4        5  2011-01-05       1   0     1        0        3           1   \n",
              "\n",
              "   weathersit      temp     atemp       hum  windspeed  casual  registered  \\\n",
              "0           2  0.344167  0.363625  0.805833   0.160446     331         654   \n",
              "1           2  0.363478  0.353739  0.696087   0.248539     131         670   \n",
              "2           1  0.196364  0.189405  0.437273   0.248309     120        1229   \n",
              "3           1  0.200000  0.212122  0.590435   0.160296     108        1454   \n",
              "4           1  0.226957  0.229270  0.436957   0.186900      82        1518   \n",
              "\n",
              "    cnt  \n",
              "0   985  \n",
              "1   801  \n",
              "2  1349  \n",
              "3  1562  \n",
              "4  1600  "
            ]
          },
          "execution_count": 2,
          "metadata": {},
          "output_type": "execute_result"
        }
      ],
      "source": [
        "bike_day = pd.read_csv(\"datasets\\day.csv\")\n",
        "bike_day.head()"
      ]
    },
    {
      "cell_type": "code",
      "execution_count": 3,
      "metadata": {},
      "outputs": [
        {
          "data": {
            "text/html": [
              "<div>\n",
              "<style scoped>\n",
              "    .dataframe tbody tr th:only-of-type {\n",
              "        vertical-align: middle;\n",
              "    }\n",
              "\n",
              "    .dataframe tbody tr th {\n",
              "        vertical-align: top;\n",
              "    }\n",
              "\n",
              "    .dataframe thead th {\n",
              "        text-align: right;\n",
              "    }\n",
              "</style>\n",
              "<table border=\"1\" class=\"dataframe\">\n",
              "  <thead>\n",
              "    <tr style=\"text-align: right;\">\n",
              "      <th></th>\n",
              "      <th>instant</th>\n",
              "      <th>dteday</th>\n",
              "      <th>season</th>\n",
              "      <th>yr</th>\n",
              "      <th>mnth</th>\n",
              "      <th>hr</th>\n",
              "      <th>holiday</th>\n",
              "      <th>weekday</th>\n",
              "      <th>workingday</th>\n",
              "      <th>weathersit</th>\n",
              "      <th>temp</th>\n",
              "      <th>atemp</th>\n",
              "      <th>hum</th>\n",
              "      <th>windspeed</th>\n",
              "      <th>casual</th>\n",
              "      <th>registered</th>\n",
              "      <th>cnt</th>\n",
              "    </tr>\n",
              "  </thead>\n",
              "  <tbody>\n",
              "    <tr>\n",
              "      <th>0</th>\n",
              "      <td>1</td>\n",
              "      <td>2011-01-01</td>\n",
              "      <td>1</td>\n",
              "      <td>0</td>\n",
              "      <td>1</td>\n",
              "      <td>0</td>\n",
              "      <td>0</td>\n",
              "      <td>6</td>\n",
              "      <td>0</td>\n",
              "      <td>1</td>\n",
              "      <td>0.24</td>\n",
              "      <td>0.2879</td>\n",
              "      <td>0.81</td>\n",
              "      <td>0.0</td>\n",
              "      <td>3</td>\n",
              "      <td>13</td>\n",
              "      <td>16</td>\n",
              "    </tr>\n",
              "    <tr>\n",
              "      <th>1</th>\n",
              "      <td>2</td>\n",
              "      <td>2011-01-01</td>\n",
              "      <td>1</td>\n",
              "      <td>0</td>\n",
              "      <td>1</td>\n",
              "      <td>1</td>\n",
              "      <td>0</td>\n",
              "      <td>6</td>\n",
              "      <td>0</td>\n",
              "      <td>1</td>\n",
              "      <td>0.22</td>\n",
              "      <td>0.2727</td>\n",
              "      <td>0.80</td>\n",
              "      <td>0.0</td>\n",
              "      <td>8</td>\n",
              "      <td>32</td>\n",
              "      <td>40</td>\n",
              "    </tr>\n",
              "    <tr>\n",
              "      <th>2</th>\n",
              "      <td>3</td>\n",
              "      <td>2011-01-01</td>\n",
              "      <td>1</td>\n",
              "      <td>0</td>\n",
              "      <td>1</td>\n",
              "      <td>2</td>\n",
              "      <td>0</td>\n",
              "      <td>6</td>\n",
              "      <td>0</td>\n",
              "      <td>1</td>\n",
              "      <td>0.22</td>\n",
              "      <td>0.2727</td>\n",
              "      <td>0.80</td>\n",
              "      <td>0.0</td>\n",
              "      <td>5</td>\n",
              "      <td>27</td>\n",
              "      <td>32</td>\n",
              "    </tr>\n",
              "    <tr>\n",
              "      <th>3</th>\n",
              "      <td>4</td>\n",
              "      <td>2011-01-01</td>\n",
              "      <td>1</td>\n",
              "      <td>0</td>\n",
              "      <td>1</td>\n",
              "      <td>3</td>\n",
              "      <td>0</td>\n",
              "      <td>6</td>\n",
              "      <td>0</td>\n",
              "      <td>1</td>\n",
              "      <td>0.24</td>\n",
              "      <td>0.2879</td>\n",
              "      <td>0.75</td>\n",
              "      <td>0.0</td>\n",
              "      <td>3</td>\n",
              "      <td>10</td>\n",
              "      <td>13</td>\n",
              "    </tr>\n",
              "    <tr>\n",
              "      <th>4</th>\n",
              "      <td>5</td>\n",
              "      <td>2011-01-01</td>\n",
              "      <td>1</td>\n",
              "      <td>0</td>\n",
              "      <td>1</td>\n",
              "      <td>4</td>\n",
              "      <td>0</td>\n",
              "      <td>6</td>\n",
              "      <td>0</td>\n",
              "      <td>1</td>\n",
              "      <td>0.24</td>\n",
              "      <td>0.2879</td>\n",
              "      <td>0.75</td>\n",
              "      <td>0.0</td>\n",
              "      <td>0</td>\n",
              "      <td>1</td>\n",
              "      <td>1</td>\n",
              "    </tr>\n",
              "  </tbody>\n",
              "</table>\n",
              "</div>"
            ],
            "text/plain": [
              "   instant      dteday  season  yr  mnth  hr  holiday  weekday  workingday  \\\n",
              "0        1  2011-01-01       1   0     1   0        0        6           0   \n",
              "1        2  2011-01-01       1   0     1   1        0        6           0   \n",
              "2        3  2011-01-01       1   0     1   2        0        6           0   \n",
              "3        4  2011-01-01       1   0     1   3        0        6           0   \n",
              "4        5  2011-01-01       1   0     1   4        0        6           0   \n",
              "\n",
              "   weathersit  temp   atemp   hum  windspeed  casual  registered  cnt  \n",
              "0           1  0.24  0.2879  0.81        0.0       3          13   16  \n",
              "1           1  0.22  0.2727  0.80        0.0       8          32   40  \n",
              "2           1  0.22  0.2727  0.80        0.0       5          27   32  \n",
              "3           1  0.24  0.2879  0.75        0.0       3          10   13  \n",
              "4           1  0.24  0.2879  0.75        0.0       0           1    1  "
            ]
          },
          "execution_count": 3,
          "metadata": {},
          "output_type": "execute_result"
        }
      ],
      "source": [
        "bike_hour = pd.read_csv(\"datasets\\hour.csv\")\n",
        "bike_hour.head()"
      ]
    },
    {
      "cell_type": "markdown",
      "metadata": {
        "id": "MMi6xGaDkbCi"
      },
      "source": [
        "**Insight:**\n",
        "- Dataset berisi data peminjaman sepeda yang dicatat per hari (`bike_day`) dan per jam (`bike_hour`).\n",
        "- Variabel cuaca (`weathersit`, `temp`, `atemp`, `hum`, `windspeed`) berpotensi mempengaruhi jumlah peminjaman, menarik untuk dianalisis lebih lanjut.\n",
        "- Terdapat informasi mengenai waktu, seperti musim (`season`), bulan (`mnth`), hari dalam seminggu (`weekday`), dan jam (`hr`) yang memungkinkan analisis pola penggunaan sepeda dalam berbagai kondisi.\n",
        "- Perbedaan antara hari kerja (`workingday`) dan hari libur (`holiday`) dapat membantu memahami kapan sepeda lebih sering digunakan.\n",
        "- Analisis lanjutan dapat dilakukan untuk melihat pola peminjaman berdasarkan waktu, cuaca, dan kategori pengguna."
      ]
    },
    {
      "cell_type": "markdown",
      "metadata": {
        "id": "FHSiqaZp8DC1"
      },
      "source": [
        "### Assessing Data"
      ]
    },
    {
      "cell_type": "markdown",
      "metadata": {},
      "source": [
        "#### Menilai tabel `bike_day`"
      ]
    },
    {
      "cell_type": "code",
      "execution_count": 4,
      "metadata": {
        "id": "ax-3tEjc9Cj1"
      },
      "outputs": [
        {
          "name": "stdout",
          "output_type": "stream",
          "text": [
            "<class 'pandas.core.frame.DataFrame'>\n",
            "RangeIndex: 731 entries, 0 to 730\n",
            "Data columns (total 16 columns):\n",
            " #   Column      Non-Null Count  Dtype  \n",
            "---  ------      --------------  -----  \n",
            " 0   instant     731 non-null    int64  \n",
            " 1   dteday      731 non-null    object \n",
            " 2   season      731 non-null    int64  \n",
            " 3   yr          731 non-null    int64  \n",
            " 4   mnth        731 non-null    int64  \n",
            " 5   holiday     731 non-null    int64  \n",
            " 6   weekday     731 non-null    int64  \n",
            " 7   workingday  731 non-null    int64  \n",
            " 8   weathersit  731 non-null    int64  \n",
            " 9   temp        731 non-null    float64\n",
            " 10  atemp       731 non-null    float64\n",
            " 11  hum         731 non-null    float64\n",
            " 12  windspeed   731 non-null    float64\n",
            " 13  casual      731 non-null    int64  \n",
            " 14  registered  731 non-null    int64  \n",
            " 15  cnt         731 non-null    int64  \n",
            "dtypes: float64(4), int64(11), object(1)\n",
            "memory usage: 91.5+ KB\n"
          ]
        }
      ],
      "source": [
        "bike_day.info()"
      ]
    },
    {
      "cell_type": "code",
      "execution_count": 5,
      "metadata": {},
      "outputs": [
        {
          "data": {
            "text/plain": [
              "instant       0\n",
              "dteday        0\n",
              "season        0\n",
              "yr            0\n",
              "mnth          0\n",
              "holiday       0\n",
              "weekday       0\n",
              "workingday    0\n",
              "weathersit    0\n",
              "temp          0\n",
              "atemp         0\n",
              "hum           0\n",
              "windspeed     0\n",
              "casual        0\n",
              "registered    0\n",
              "cnt           0\n",
              "dtype: int64"
            ]
          },
          "execution_count": 5,
          "metadata": {},
          "output_type": "execute_result"
        }
      ],
      "source": [
        "bike_day.isna().sum()"
      ]
    },
    {
      "cell_type": "code",
      "execution_count": 6,
      "metadata": {},
      "outputs": [
        {
          "name": "stdout",
          "output_type": "stream",
          "text": [
            "Jumlah duplikasi:  0\n"
          ]
        }
      ],
      "source": [
        "print(\"Jumlah duplikasi: \", bike_day.duplicated().sum())"
      ]
    },
    {
      "cell_type": "code",
      "execution_count": 7,
      "metadata": {},
      "outputs": [
        {
          "data": {
            "text/html": [
              "<div>\n",
              "<style scoped>\n",
              "    .dataframe tbody tr th:only-of-type {\n",
              "        vertical-align: middle;\n",
              "    }\n",
              "\n",
              "    .dataframe tbody tr th {\n",
              "        vertical-align: top;\n",
              "    }\n",
              "\n",
              "    .dataframe thead th {\n",
              "        text-align: right;\n",
              "    }\n",
              "</style>\n",
              "<table border=\"1\" class=\"dataframe\">\n",
              "  <thead>\n",
              "    <tr style=\"text-align: right;\">\n",
              "      <th></th>\n",
              "      <th>instant</th>\n",
              "      <th>season</th>\n",
              "      <th>yr</th>\n",
              "      <th>mnth</th>\n",
              "      <th>holiday</th>\n",
              "      <th>weekday</th>\n",
              "      <th>workingday</th>\n",
              "      <th>weathersit</th>\n",
              "      <th>temp</th>\n",
              "      <th>atemp</th>\n",
              "      <th>hum</th>\n",
              "      <th>windspeed</th>\n",
              "      <th>casual</th>\n",
              "      <th>registered</th>\n",
              "      <th>cnt</th>\n",
              "    </tr>\n",
              "  </thead>\n",
              "  <tbody>\n",
              "    <tr>\n",
              "      <th>count</th>\n",
              "      <td>731.000000</td>\n",
              "      <td>731.000000</td>\n",
              "      <td>731.000000</td>\n",
              "      <td>731.000000</td>\n",
              "      <td>731.000000</td>\n",
              "      <td>731.000000</td>\n",
              "      <td>731.000000</td>\n",
              "      <td>731.000000</td>\n",
              "      <td>731.000000</td>\n",
              "      <td>731.000000</td>\n",
              "      <td>731.000000</td>\n",
              "      <td>731.000000</td>\n",
              "      <td>731.000000</td>\n",
              "      <td>731.000000</td>\n",
              "      <td>731.000000</td>\n",
              "    </tr>\n",
              "    <tr>\n",
              "      <th>mean</th>\n",
              "      <td>366.000000</td>\n",
              "      <td>2.496580</td>\n",
              "      <td>0.500684</td>\n",
              "      <td>6.519836</td>\n",
              "      <td>0.028728</td>\n",
              "      <td>2.997264</td>\n",
              "      <td>0.683995</td>\n",
              "      <td>1.395349</td>\n",
              "      <td>0.495385</td>\n",
              "      <td>0.474354</td>\n",
              "      <td>0.627894</td>\n",
              "      <td>0.190486</td>\n",
              "      <td>848.176471</td>\n",
              "      <td>3656.172367</td>\n",
              "      <td>4504.348837</td>\n",
              "    </tr>\n",
              "    <tr>\n",
              "      <th>std</th>\n",
              "      <td>211.165812</td>\n",
              "      <td>1.110807</td>\n",
              "      <td>0.500342</td>\n",
              "      <td>3.451913</td>\n",
              "      <td>0.167155</td>\n",
              "      <td>2.004787</td>\n",
              "      <td>0.465233</td>\n",
              "      <td>0.544894</td>\n",
              "      <td>0.183051</td>\n",
              "      <td>0.162961</td>\n",
              "      <td>0.142429</td>\n",
              "      <td>0.077498</td>\n",
              "      <td>686.622488</td>\n",
              "      <td>1560.256377</td>\n",
              "      <td>1937.211452</td>\n",
              "    </tr>\n",
              "    <tr>\n",
              "      <th>min</th>\n",
              "      <td>1.000000</td>\n",
              "      <td>1.000000</td>\n",
              "      <td>0.000000</td>\n",
              "      <td>1.000000</td>\n",
              "      <td>0.000000</td>\n",
              "      <td>0.000000</td>\n",
              "      <td>0.000000</td>\n",
              "      <td>1.000000</td>\n",
              "      <td>0.059130</td>\n",
              "      <td>0.079070</td>\n",
              "      <td>0.000000</td>\n",
              "      <td>0.022392</td>\n",
              "      <td>2.000000</td>\n",
              "      <td>20.000000</td>\n",
              "      <td>22.000000</td>\n",
              "    </tr>\n",
              "    <tr>\n",
              "      <th>25%</th>\n",
              "      <td>183.500000</td>\n",
              "      <td>2.000000</td>\n",
              "      <td>0.000000</td>\n",
              "      <td>4.000000</td>\n",
              "      <td>0.000000</td>\n",
              "      <td>1.000000</td>\n",
              "      <td>0.000000</td>\n",
              "      <td>1.000000</td>\n",
              "      <td>0.337083</td>\n",
              "      <td>0.337842</td>\n",
              "      <td>0.520000</td>\n",
              "      <td>0.134950</td>\n",
              "      <td>315.500000</td>\n",
              "      <td>2497.000000</td>\n",
              "      <td>3152.000000</td>\n",
              "    </tr>\n",
              "    <tr>\n",
              "      <th>50%</th>\n",
              "      <td>366.000000</td>\n",
              "      <td>3.000000</td>\n",
              "      <td>1.000000</td>\n",
              "      <td>7.000000</td>\n",
              "      <td>0.000000</td>\n",
              "      <td>3.000000</td>\n",
              "      <td>1.000000</td>\n",
              "      <td>1.000000</td>\n",
              "      <td>0.498333</td>\n",
              "      <td>0.486733</td>\n",
              "      <td>0.626667</td>\n",
              "      <td>0.180975</td>\n",
              "      <td>713.000000</td>\n",
              "      <td>3662.000000</td>\n",
              "      <td>4548.000000</td>\n",
              "    </tr>\n",
              "    <tr>\n",
              "      <th>75%</th>\n",
              "      <td>548.500000</td>\n",
              "      <td>3.000000</td>\n",
              "      <td>1.000000</td>\n",
              "      <td>10.000000</td>\n",
              "      <td>0.000000</td>\n",
              "      <td>5.000000</td>\n",
              "      <td>1.000000</td>\n",
              "      <td>2.000000</td>\n",
              "      <td>0.655417</td>\n",
              "      <td>0.608602</td>\n",
              "      <td>0.730209</td>\n",
              "      <td>0.233214</td>\n",
              "      <td>1096.000000</td>\n",
              "      <td>4776.500000</td>\n",
              "      <td>5956.000000</td>\n",
              "    </tr>\n",
              "    <tr>\n",
              "      <th>max</th>\n",
              "      <td>731.000000</td>\n",
              "      <td>4.000000</td>\n",
              "      <td>1.000000</td>\n",
              "      <td>12.000000</td>\n",
              "      <td>1.000000</td>\n",
              "      <td>6.000000</td>\n",
              "      <td>1.000000</td>\n",
              "      <td>3.000000</td>\n",
              "      <td>0.861667</td>\n",
              "      <td>0.840896</td>\n",
              "      <td>0.972500</td>\n",
              "      <td>0.507463</td>\n",
              "      <td>3410.000000</td>\n",
              "      <td>6946.000000</td>\n",
              "      <td>8714.000000</td>\n",
              "    </tr>\n",
              "  </tbody>\n",
              "</table>\n",
              "</div>"
            ],
            "text/plain": [
              "          instant      season          yr        mnth     holiday     weekday  \\\n",
              "count  731.000000  731.000000  731.000000  731.000000  731.000000  731.000000   \n",
              "mean   366.000000    2.496580    0.500684    6.519836    0.028728    2.997264   \n",
              "std    211.165812    1.110807    0.500342    3.451913    0.167155    2.004787   \n",
              "min      1.000000    1.000000    0.000000    1.000000    0.000000    0.000000   \n",
              "25%    183.500000    2.000000    0.000000    4.000000    0.000000    1.000000   \n",
              "50%    366.000000    3.000000    1.000000    7.000000    0.000000    3.000000   \n",
              "75%    548.500000    3.000000    1.000000   10.000000    0.000000    5.000000   \n",
              "max    731.000000    4.000000    1.000000   12.000000    1.000000    6.000000   \n",
              "\n",
              "       workingday  weathersit        temp       atemp         hum   windspeed  \\\n",
              "count  731.000000  731.000000  731.000000  731.000000  731.000000  731.000000   \n",
              "mean     0.683995    1.395349    0.495385    0.474354    0.627894    0.190486   \n",
              "std      0.465233    0.544894    0.183051    0.162961    0.142429    0.077498   \n",
              "min      0.000000    1.000000    0.059130    0.079070    0.000000    0.022392   \n",
              "25%      0.000000    1.000000    0.337083    0.337842    0.520000    0.134950   \n",
              "50%      1.000000    1.000000    0.498333    0.486733    0.626667    0.180975   \n",
              "75%      1.000000    2.000000    0.655417    0.608602    0.730209    0.233214   \n",
              "max      1.000000    3.000000    0.861667    0.840896    0.972500    0.507463   \n",
              "\n",
              "            casual   registered          cnt  \n",
              "count   731.000000   731.000000   731.000000  \n",
              "mean    848.176471  3656.172367  4504.348837  \n",
              "std     686.622488  1560.256377  1937.211452  \n",
              "min       2.000000    20.000000    22.000000  \n",
              "25%     315.500000  2497.000000  3152.000000  \n",
              "50%     713.000000  3662.000000  4548.000000  \n",
              "75%    1096.000000  4776.500000  5956.000000  \n",
              "max    3410.000000  6946.000000  8714.000000  "
            ]
          },
          "execution_count": 7,
          "metadata": {},
          "output_type": "execute_result"
        }
      ],
      "source": [
        "bike_day.describe()"
      ]
    },
    {
      "cell_type": "markdown",
      "metadata": {},
      "source": [
        "#### Menilai tabel `bike_hour`"
      ]
    },
    {
      "cell_type": "code",
      "execution_count": 8,
      "metadata": {},
      "outputs": [
        {
          "name": "stdout",
          "output_type": "stream",
          "text": [
            "<class 'pandas.core.frame.DataFrame'>\n",
            "RangeIndex: 17379 entries, 0 to 17378\n",
            "Data columns (total 17 columns):\n",
            " #   Column      Non-Null Count  Dtype  \n",
            "---  ------      --------------  -----  \n",
            " 0   instant     17379 non-null  int64  \n",
            " 1   dteday      17379 non-null  object \n",
            " 2   season      17379 non-null  int64  \n",
            " 3   yr          17379 non-null  int64  \n",
            " 4   mnth        17379 non-null  int64  \n",
            " 5   hr          17379 non-null  int64  \n",
            " 6   holiday     17379 non-null  int64  \n",
            " 7   weekday     17379 non-null  int64  \n",
            " 8   workingday  17379 non-null  int64  \n",
            " 9   weathersit  17379 non-null  int64  \n",
            " 10  temp        17379 non-null  float64\n",
            " 11  atemp       17379 non-null  float64\n",
            " 12  hum         17379 non-null  float64\n",
            " 13  windspeed   17379 non-null  float64\n",
            " 14  casual      17379 non-null  int64  \n",
            " 15  registered  17379 non-null  int64  \n",
            " 16  cnt         17379 non-null  int64  \n",
            "dtypes: float64(4), int64(12), object(1)\n",
            "memory usage: 2.3+ MB\n"
          ]
        }
      ],
      "source": [
        "bike_hour.info()"
      ]
    },
    {
      "cell_type": "code",
      "execution_count": 9,
      "metadata": {},
      "outputs": [
        {
          "data": {
            "text/plain": [
              "instant       0\n",
              "dteday        0\n",
              "season        0\n",
              "yr            0\n",
              "mnth          0\n",
              "hr            0\n",
              "holiday       0\n",
              "weekday       0\n",
              "workingday    0\n",
              "weathersit    0\n",
              "temp          0\n",
              "atemp         0\n",
              "hum           0\n",
              "windspeed     0\n",
              "casual        0\n",
              "registered    0\n",
              "cnt           0\n",
              "dtype: int64"
            ]
          },
          "execution_count": 9,
          "metadata": {},
          "output_type": "execute_result"
        }
      ],
      "source": [
        "bike_hour.isna().sum()"
      ]
    },
    {
      "cell_type": "code",
      "execution_count": 10,
      "metadata": {},
      "outputs": [
        {
          "name": "stdout",
          "output_type": "stream",
          "text": [
            "Jumlah duplikasi:  0\n"
          ]
        }
      ],
      "source": [
        "print(\"Jumlah duplikasi: \", bike_hour.duplicated().sum())"
      ]
    },
    {
      "cell_type": "code",
      "execution_count": 11,
      "metadata": {},
      "outputs": [
        {
          "data": {
            "text/html": [
              "<div>\n",
              "<style scoped>\n",
              "    .dataframe tbody tr th:only-of-type {\n",
              "        vertical-align: middle;\n",
              "    }\n",
              "\n",
              "    .dataframe tbody tr th {\n",
              "        vertical-align: top;\n",
              "    }\n",
              "\n",
              "    .dataframe thead th {\n",
              "        text-align: right;\n",
              "    }\n",
              "</style>\n",
              "<table border=\"1\" class=\"dataframe\">\n",
              "  <thead>\n",
              "    <tr style=\"text-align: right;\">\n",
              "      <th></th>\n",
              "      <th>instant</th>\n",
              "      <th>season</th>\n",
              "      <th>yr</th>\n",
              "      <th>mnth</th>\n",
              "      <th>hr</th>\n",
              "      <th>holiday</th>\n",
              "      <th>weekday</th>\n",
              "      <th>workingday</th>\n",
              "      <th>weathersit</th>\n",
              "      <th>temp</th>\n",
              "      <th>atemp</th>\n",
              "      <th>hum</th>\n",
              "      <th>windspeed</th>\n",
              "      <th>casual</th>\n",
              "      <th>registered</th>\n",
              "      <th>cnt</th>\n",
              "    </tr>\n",
              "  </thead>\n",
              "  <tbody>\n",
              "    <tr>\n",
              "      <th>count</th>\n",
              "      <td>17379.0000</td>\n",
              "      <td>17379.000000</td>\n",
              "      <td>17379.000000</td>\n",
              "      <td>17379.000000</td>\n",
              "      <td>17379.000000</td>\n",
              "      <td>17379.000000</td>\n",
              "      <td>17379.000000</td>\n",
              "      <td>17379.000000</td>\n",
              "      <td>17379.000000</td>\n",
              "      <td>17379.000000</td>\n",
              "      <td>17379.000000</td>\n",
              "      <td>17379.000000</td>\n",
              "      <td>17379.000000</td>\n",
              "      <td>17379.000000</td>\n",
              "      <td>17379.000000</td>\n",
              "      <td>17379.000000</td>\n",
              "    </tr>\n",
              "    <tr>\n",
              "      <th>mean</th>\n",
              "      <td>8690.0000</td>\n",
              "      <td>2.501640</td>\n",
              "      <td>0.502561</td>\n",
              "      <td>6.537775</td>\n",
              "      <td>11.546752</td>\n",
              "      <td>0.028770</td>\n",
              "      <td>3.003683</td>\n",
              "      <td>0.682721</td>\n",
              "      <td>1.425283</td>\n",
              "      <td>0.496987</td>\n",
              "      <td>0.475775</td>\n",
              "      <td>0.627229</td>\n",
              "      <td>0.190098</td>\n",
              "      <td>35.676218</td>\n",
              "      <td>153.786869</td>\n",
              "      <td>189.463088</td>\n",
              "    </tr>\n",
              "    <tr>\n",
              "      <th>std</th>\n",
              "      <td>5017.0295</td>\n",
              "      <td>1.106918</td>\n",
              "      <td>0.500008</td>\n",
              "      <td>3.438776</td>\n",
              "      <td>6.914405</td>\n",
              "      <td>0.167165</td>\n",
              "      <td>2.005771</td>\n",
              "      <td>0.465431</td>\n",
              "      <td>0.639357</td>\n",
              "      <td>0.192556</td>\n",
              "      <td>0.171850</td>\n",
              "      <td>0.192930</td>\n",
              "      <td>0.122340</td>\n",
              "      <td>49.305030</td>\n",
              "      <td>151.357286</td>\n",
              "      <td>181.387599</td>\n",
              "    </tr>\n",
              "    <tr>\n",
              "      <th>min</th>\n",
              "      <td>1.0000</td>\n",
              "      <td>1.000000</td>\n",
              "      <td>0.000000</td>\n",
              "      <td>1.000000</td>\n",
              "      <td>0.000000</td>\n",
              "      <td>0.000000</td>\n",
              "      <td>0.000000</td>\n",
              "      <td>0.000000</td>\n",
              "      <td>1.000000</td>\n",
              "      <td>0.020000</td>\n",
              "      <td>0.000000</td>\n",
              "      <td>0.000000</td>\n",
              "      <td>0.000000</td>\n",
              "      <td>0.000000</td>\n",
              "      <td>0.000000</td>\n",
              "      <td>1.000000</td>\n",
              "    </tr>\n",
              "    <tr>\n",
              "      <th>25%</th>\n",
              "      <td>4345.5000</td>\n",
              "      <td>2.000000</td>\n",
              "      <td>0.000000</td>\n",
              "      <td>4.000000</td>\n",
              "      <td>6.000000</td>\n",
              "      <td>0.000000</td>\n",
              "      <td>1.000000</td>\n",
              "      <td>0.000000</td>\n",
              "      <td>1.000000</td>\n",
              "      <td>0.340000</td>\n",
              "      <td>0.333300</td>\n",
              "      <td>0.480000</td>\n",
              "      <td>0.104500</td>\n",
              "      <td>4.000000</td>\n",
              "      <td>34.000000</td>\n",
              "      <td>40.000000</td>\n",
              "    </tr>\n",
              "    <tr>\n",
              "      <th>50%</th>\n",
              "      <td>8690.0000</td>\n",
              "      <td>3.000000</td>\n",
              "      <td>1.000000</td>\n",
              "      <td>7.000000</td>\n",
              "      <td>12.000000</td>\n",
              "      <td>0.000000</td>\n",
              "      <td>3.000000</td>\n",
              "      <td>1.000000</td>\n",
              "      <td>1.000000</td>\n",
              "      <td>0.500000</td>\n",
              "      <td>0.484800</td>\n",
              "      <td>0.630000</td>\n",
              "      <td>0.194000</td>\n",
              "      <td>17.000000</td>\n",
              "      <td>115.000000</td>\n",
              "      <td>142.000000</td>\n",
              "    </tr>\n",
              "    <tr>\n",
              "      <th>75%</th>\n",
              "      <td>13034.5000</td>\n",
              "      <td>3.000000</td>\n",
              "      <td>1.000000</td>\n",
              "      <td>10.000000</td>\n",
              "      <td>18.000000</td>\n",
              "      <td>0.000000</td>\n",
              "      <td>5.000000</td>\n",
              "      <td>1.000000</td>\n",
              "      <td>2.000000</td>\n",
              "      <td>0.660000</td>\n",
              "      <td>0.621200</td>\n",
              "      <td>0.780000</td>\n",
              "      <td>0.253700</td>\n",
              "      <td>48.000000</td>\n",
              "      <td>220.000000</td>\n",
              "      <td>281.000000</td>\n",
              "    </tr>\n",
              "    <tr>\n",
              "      <th>max</th>\n",
              "      <td>17379.0000</td>\n",
              "      <td>4.000000</td>\n",
              "      <td>1.000000</td>\n",
              "      <td>12.000000</td>\n",
              "      <td>23.000000</td>\n",
              "      <td>1.000000</td>\n",
              "      <td>6.000000</td>\n",
              "      <td>1.000000</td>\n",
              "      <td>4.000000</td>\n",
              "      <td>1.000000</td>\n",
              "      <td>1.000000</td>\n",
              "      <td>1.000000</td>\n",
              "      <td>0.850700</td>\n",
              "      <td>367.000000</td>\n",
              "      <td>886.000000</td>\n",
              "      <td>977.000000</td>\n",
              "    </tr>\n",
              "  </tbody>\n",
              "</table>\n",
              "</div>"
            ],
            "text/plain": [
              "          instant        season            yr          mnth            hr  \\\n",
              "count  17379.0000  17379.000000  17379.000000  17379.000000  17379.000000   \n",
              "mean    8690.0000      2.501640      0.502561      6.537775     11.546752   \n",
              "std     5017.0295      1.106918      0.500008      3.438776      6.914405   \n",
              "min        1.0000      1.000000      0.000000      1.000000      0.000000   \n",
              "25%     4345.5000      2.000000      0.000000      4.000000      6.000000   \n",
              "50%     8690.0000      3.000000      1.000000      7.000000     12.000000   \n",
              "75%    13034.5000      3.000000      1.000000     10.000000     18.000000   \n",
              "max    17379.0000      4.000000      1.000000     12.000000     23.000000   \n",
              "\n",
              "            holiday       weekday    workingday    weathersit          temp  \\\n",
              "count  17379.000000  17379.000000  17379.000000  17379.000000  17379.000000   \n",
              "mean       0.028770      3.003683      0.682721      1.425283      0.496987   \n",
              "std        0.167165      2.005771      0.465431      0.639357      0.192556   \n",
              "min        0.000000      0.000000      0.000000      1.000000      0.020000   \n",
              "25%        0.000000      1.000000      0.000000      1.000000      0.340000   \n",
              "50%        0.000000      3.000000      1.000000      1.000000      0.500000   \n",
              "75%        0.000000      5.000000      1.000000      2.000000      0.660000   \n",
              "max        1.000000      6.000000      1.000000      4.000000      1.000000   \n",
              "\n",
              "              atemp           hum     windspeed        casual    registered  \\\n",
              "count  17379.000000  17379.000000  17379.000000  17379.000000  17379.000000   \n",
              "mean       0.475775      0.627229      0.190098     35.676218    153.786869   \n",
              "std        0.171850      0.192930      0.122340     49.305030    151.357286   \n",
              "min        0.000000      0.000000      0.000000      0.000000      0.000000   \n",
              "25%        0.333300      0.480000      0.104500      4.000000     34.000000   \n",
              "50%        0.484800      0.630000      0.194000     17.000000    115.000000   \n",
              "75%        0.621200      0.780000      0.253700     48.000000    220.000000   \n",
              "max        1.000000      1.000000      0.850700    367.000000    886.000000   \n",
              "\n",
              "                cnt  \n",
              "count  17379.000000  \n",
              "mean     189.463088  \n",
              "std      181.387599  \n",
              "min        1.000000  \n",
              "25%       40.000000  \n",
              "50%      142.000000  \n",
              "75%      281.000000  \n",
              "max      977.000000  "
            ]
          },
          "execution_count": 11,
          "metadata": {},
          "output_type": "execute_result"
        }
      ],
      "source": [
        "bike_hour.describe()"
      ]
    },
    {
      "cell_type": "markdown",
      "metadata": {},
      "source": [
        "**Insight:**\n",
        "- Tidak ada missing values dan data duplikat, sehingga dataset dalam kondisi baik untuk analisis lebih lanjut.\n",
        "- Variabel `dteday` memiliki tipe data string, yang seharusnya diubah menjadi tipe datetime untuk analisis waktu.\n",
        "- Varibael `season`, `yr`, `mnth`, `holiday`, `weekday`, `workingday`, dan `weathersit` bertipe numerik, yang seharusnya diubah menjadi tipe kategori agar lebih mudah dianalisis.\n",
        "- Beberapa variabel cuaca (`temp`, `atemp`, `hum`, `windspeed`) memiliki nilai minimum yang sangat rendah, termasuk `hum` (kelembaban) yang nilai  minimumnya bernilai 0, hal ini mungkin merupakan anomali atau error data.\n",
        "- Nilai maksimum kecepatan angin (`windspeed`) hanya sekitar 0.5, yang cukup kecil jika satuannya dalam skala 0-1. Hal ini mungkin merupakan kesalahan dalam pengukuran."
      ]
    },
    {
      "cell_type": "markdown",
      "metadata": {
        "id": "EhN5R4hr8DC1"
      },
      "source": [
        "### Cleaning Data"
      ]
    },
    {
      "cell_type": "markdown",
      "metadata": {},
      "source": [
        "**1. Menghapus kolom yang tidak relevan** <br>\n",
        "\n",
        "hal ini dilakukan karena `instant` adalah indeks, sedangkan `casual` dan `registered` sudah tercakup dalam `cnt`"
      ]
    },
    {
      "cell_type": "code",
      "execution_count": 12,
      "metadata": {
        "id": "jVnYpprE9Evz"
      },
      "outputs": [],
      "source": [
        "# Bike_day\n",
        "bike_daynew = ['instant', 'casual', 'registered']\n",
        "bike_day.drop(columns=bike_daynew, inplace=True)"
      ]
    },
    {
      "cell_type": "code",
      "execution_count": 13,
      "metadata": {},
      "outputs": [],
      "source": [
        "# Bike_hour\n",
        "bike_hournew = ['instant', 'casual', 'registered']\n",
        "bike_hour.drop(columns=bike_hournew, inplace=True)"
      ]
    },
    {
      "cell_type": "markdown",
      "metadata": {},
      "source": [
        "**2. Mengubah variabel `dteday` menjadi tipe datetime**"
      ]
    },
    {
      "cell_type": "markdown",
      "metadata": {},
      "source": [
        "`Bike_day`"
      ]
    },
    {
      "cell_type": "code",
      "execution_count": 14,
      "metadata": {},
      "outputs": [],
      "source": [
        "bike_day['dteday'] = pd.to_datetime(bike_day['dteday'])"
      ]
    },
    {
      "cell_type": "markdown",
      "metadata": {},
      "source": [
        "`Bike_hour`"
      ]
    },
    {
      "cell_type": "code",
      "execution_count": 15,
      "metadata": {},
      "outputs": [],
      "source": [
        "bike_hour['dteday'] = pd.to_datetime(bike_hour['dteday'])"
      ]
    },
    {
      "cell_type": "markdown",
      "metadata": {},
      "source": [
        "**3. Mengubah tipe data untuk variabel yang seharusnya kategori**"
      ]
    },
    {
      "cell_type": "markdown",
      "metadata": {},
      "source": [
        "`Bike_day`"
      ]
    },
    {
      "cell_type": "code",
      "execution_count": 16,
      "metadata": {},
      "outputs": [
        {
          "name": "stdout",
          "output_type": "stream",
          "text": [
            "<class 'pandas.core.frame.DataFrame'>\n",
            "RangeIndex: 731 entries, 0 to 730\n",
            "Data columns (total 13 columns):\n",
            " #   Column      Non-Null Count  Dtype         \n",
            "---  ------      --------------  -----         \n",
            " 0   dteday      731 non-null    datetime64[ns]\n",
            " 1   season      731 non-null    category      \n",
            " 2   yr          731 non-null    category      \n",
            " 3   mnth        731 non-null    category      \n",
            " 4   holiday     731 non-null    category      \n",
            " 5   weekday     731 non-null    category      \n",
            " 6   workingday  731 non-null    category      \n",
            " 7   weathersit  731 non-null    category      \n",
            " 8   temp        731 non-null    float64       \n",
            " 9   atemp       731 non-null    float64       \n",
            " 10  hum         731 non-null    float64       \n",
            " 11  windspeed   731 non-null    float64       \n",
            " 12  cnt         731 non-null    int64         \n",
            "dtypes: category(7), datetime64[ns](1), float64(4), int64(1)\n",
            "memory usage: 40.8 KB\n"
          ]
        }
      ],
      "source": [
        "categorical = ['season', 'yr', 'mnth', 'holiday', 'weekday', 'workingday', 'weathersit']\n",
        "for col in categorical:\n",
        "    bike_day[col] = bike_day[col].astype('category')\n",
        "\n",
        "bike_day.info()"
      ]
    },
    {
      "cell_type": "markdown",
      "metadata": {},
      "source": [
        "`Bike_hour`"
      ]
    },
    {
      "cell_type": "code",
      "execution_count": 17,
      "metadata": {},
      "outputs": [
        {
          "name": "stdout",
          "output_type": "stream",
          "text": [
            "<class 'pandas.core.frame.DataFrame'>\n",
            "RangeIndex: 17379 entries, 0 to 17378\n",
            "Data columns (total 14 columns):\n",
            " #   Column      Non-Null Count  Dtype         \n",
            "---  ------      --------------  -----         \n",
            " 0   dteday      17379 non-null  datetime64[ns]\n",
            " 1   season      17379 non-null  category      \n",
            " 2   yr          17379 non-null  category      \n",
            " 3   mnth        17379 non-null  category      \n",
            " 4   hr          17379 non-null  int64         \n",
            " 5   holiday     17379 non-null  category      \n",
            " 6   weekday     17379 non-null  category      \n",
            " 7   workingday  17379 non-null  category      \n",
            " 8   weathersit  17379 non-null  category      \n",
            " 9   temp        17379 non-null  float64       \n",
            " 10  atemp       17379 non-null  float64       \n",
            " 11  hum         17379 non-null  float64       \n",
            " 12  windspeed   17379 non-null  float64       \n",
            " 13  cnt         17379 non-null  int64         \n",
            "dtypes: category(7), datetime64[ns](1), float64(4), int64(2)\n",
            "memory usage: 1.0 MB\n"
          ]
        }
      ],
      "source": [
        "categorical2 = ['season', 'yr', 'mnth', 'holiday', 'weekday', 'workingday', 'weathersit']\n",
        "for col in categorical2:\n",
        "    bike_hour[col] = bike_hour[col].astype('category')\n",
        "\n",
        "bike_hour.info()"
      ]
    },
    {
      "cell_type": "markdown",
      "metadata": {},
      "source": [
        "**4. Membersihkan beberapa variabel cuaca (`temp`, `atemp`, `hum`, `windspeed`)**"
      ]
    },
    {
      "cell_type": "markdown",
      "metadata": {},
      "source": [
        "`bike_day`"
      ]
    },
    {
      "cell_type": "code",
      "execution_count": 18,
      "metadata": {},
      "outputs": [
        {
          "name": "stdout",
          "output_type": "stream",
          "text": [
            "             temp       atemp         hum   windspeed\n",
            "count  731.000000  731.000000  731.000000  731.000000\n",
            "mean     0.495385    0.474354    0.627894    0.190486\n",
            "std      0.183051    0.162961    0.142429    0.077498\n",
            "min      0.059130    0.079070    0.000000    0.022392\n",
            "25%      0.337083    0.337842    0.520000    0.134950\n",
            "50%      0.498333    0.486733    0.626667    0.180975\n",
            "75%      0.655417    0.608602    0.730209    0.233214\n",
            "max      0.861667    0.840896    0.972500    0.507463\n"
          ]
        },
        {
          "data": {
            "image/png": "[encoded data removed]",
            "text/plain": [
              "<Figure size 1200x600 with 1 Axes>"
            ]
          },
          "metadata": {},
          "output_type": "display_data"
        }
      ],
      "source": [
        "# Mengecek distribusi variabel cuaca\n",
        "weather = ['temp', 'atemp', 'hum', 'windspeed']\n",
        "print(bike_day[weather].describe())\n",
        "\n",
        "# Boxplot untuk mendeteksi outlier\n",
        "plt.figure(figsize=(12, 6))\n",
        "sns.boxplot(data=bike_hour[weather])\n",
        "plt.title(\"Boxplot Variabel Cuaca\")\n",
        "plt.show()"
      ]
    },
    {
      "cell_type": "code",
      "execution_count": 19,
      "metadata": {},
      "outputs": [
        {
          "name": "stdout",
          "output_type": "stream",
          "text": [
            "Jumlah nilai nol di tiap variabel cuaca:\n",
            " temp         0\n",
            "atemp        0\n",
            "hum          1\n",
            "windspeed    0\n",
            "dtype: int64\n"
          ]
        }
      ],
      "source": [
        "# Mengecek jumlah nilai 0 masing-masing variabel cuaca\n",
        "zero = (bike_day[weather] == 0).sum()\n",
        "print(\"Jumlah nilai nol di tiap variabel cuaca:\\n\", zero)"
      ]
    },
    {
      "cell_type": "code",
      "execution_count": 20,
      "metadata": {},
      "outputs": [],
      "source": [
        "# Mengganti nilai 0 dengan median untuk variabel 'hum'\n",
        "bike_day['hum'] = bike_day['hum'].replace(0, bike_day['hum'].median())"
      ]
    },
    {
      "cell_type": "code",
      "execution_count": 21,
      "metadata": {},
      "outputs": [
        {
          "name": "stdout",
          "output_type": "stream",
          "text": [
            "             temp       atemp         hum   windspeed\n",
            "count  731.000000  731.000000  731.000000  731.000000\n",
            "mean     0.495385    0.474354    0.628751    0.190486\n",
            "std      0.183051    0.162961    0.140518    0.077498\n",
            "min      0.059130    0.079070    0.187917    0.022392\n",
            "25%      0.337083    0.337842    0.521041    0.134950\n",
            "50%      0.498333    0.486733    0.626667    0.180975\n",
            "75%      0.655417    0.608602    0.730209    0.233214\n",
            "max      0.861667    0.840896    0.972500    0.507463\n"
          ]
        },
        {
          "data": {
            "image/png": "[encoded data removed]",
            "text/plain": [
              "<Figure size 1200x600 with 1 Axes>"
            ]
          },
          "metadata": {},
          "output_type": "display_data"
        }
      ],
      "source": [
        "# Mengecek statistik deskriptif setelah cleaning data\n",
        "print(bike_day[weather].describe())\n",
        "\n",
        "# Visualisasi Boxplot ulang\n",
        "plt.figure(figsize=(12, 6))\n",
        "sns.boxplot(data=bike_day[weather])\n",
        "plt.title(\"Boxplot Variabel Cuaca Setelah Cleaning\")\n",
        "plt.show()\n"
      ]
    },
    {
      "cell_type": "markdown",
      "metadata": {},
      "source": [
        "**Insight:**\n",
        "- Dari boxplot di atas, terlihat bahwa variabel `windspeed` masih memiliki beberapa outlier. Hal ini bisa terjadi karena distribusi windspeed cenderung lebih terkonsentrasi di nilai rendah. Namun setelah dilakukan pengecekan outlier pada variabel `windspeed` terjadi secara alami dan bukan error, sehingga outlier ini tidak harus dihapus"
      ]
    },
    {
      "cell_type": "code",
      "execution_count": 22,
      "metadata": {},
      "outputs": [
        {
          "name": "stdout",
          "output_type": "stream",
          "text": [
            "Jumlah nilai nol di variabel cuaca:\n",
            " temp         0\n",
            "atemp        0\n",
            "hum          0\n",
            "windspeed    0\n",
            "dtype: int64\n"
          ]
        }
      ],
      "source": [
        "# Mengecek kembali jumlah nilai 0 di masing-masing variabel cuaca\n",
        "zero = (bike_day[weather] == 0).sum()\n",
        "print(\"Jumlah nilai nol di variabel cuaca:\\n\", zero)"
      ]
    },
    {
      "cell_type": "markdown",
      "metadata": {},
      "source": [
        "`bike_hour`"
      ]
    },
    {
      "cell_type": "code",
      "execution_count": 23,
      "metadata": {},
      "outputs": [
        {
          "name": "stdout",
          "output_type": "stream",
          "text": [
            "               temp         atemp           hum     windspeed\n",
            "count  17379.000000  17379.000000  17379.000000  17379.000000\n",
            "mean       0.496987      0.475775      0.627229      0.190098\n",
            "std        0.192556      0.171850      0.192930      0.122340\n",
            "min        0.020000      0.000000      0.000000      0.000000\n",
            "25%        0.340000      0.333300      0.480000      0.104500\n",
            "50%        0.500000      0.484800      0.630000      0.194000\n",
            "75%        0.660000      0.621200      0.780000      0.253700\n",
            "max        1.000000      1.000000      1.000000      0.850700\n"
          ]
        },
        {
          "data": {
            "image/png": "[encoded data removed]",
            "text/plain": [
              "<Figure size 1200x600 with 1 Axes>"
            ]
          },
          "metadata": {},
          "output_type": "display_data"
        }
      ],
      "source": [
        "# Mengecek distribusi variabel cuaca\n",
        "weather = ['temp', 'atemp', 'hum', 'windspeed']\n",
        "print(bike_hour[weather].describe())\n",
        "\n",
        "# Boxplot untuk mendeteksi outlier\n",
        "plt.figure(figsize=(12, 6))\n",
        "sns.boxplot(data=bike_hour[weather])\n",
        "plt.title(\"Boxplot Variabel Cuaca\")\n",
        "plt.show()"
      ]
    },
    {
      "cell_type": "code",
      "execution_count": 24,
      "metadata": {},
      "outputs": [
        {
          "name": "stdout",
          "output_type": "stream",
          "text": [
            "Jumlah nilai nol di tiap variabel cuaca:\n",
            " temp            0\n",
            "atemp           2\n",
            "hum            22\n",
            "windspeed    2180\n",
            "dtype: int64\n"
          ]
        }
      ],
      "source": [
        "# Mengecek jumlah nilai 0 masing-masing variabel cuaca\n",
        "zero = (bike_hour[weather] == 0).sum()\n",
        "print(\"Jumlah nilai nol di tiap variabel cuaca:\\n\", zero)"
      ]
    },
    {
      "cell_type": "code",
      "execution_count": 25,
      "metadata": {},
      "outputs": [],
      "source": [
        "# Mengganti nilai 0 dengan median untuk variabel 'hum'\n",
        "bike_hour['hum'] = bike_hour['hum'].replace(0, bike_hour['hum'].median())"
      ]
    },
    {
      "cell_type": "code",
      "execution_count": 26,
      "metadata": {},
      "outputs": [
        {
          "data": {
            "image/png": "[encoded data removed]",
            "text/plain": [
              "<Figure size 640x480 with 1 Axes>"
            ]
          },
          "metadata": {},
          "output_type": "display_data"
        },
        {
          "name": "stdout",
          "output_type": "stream",
          "text": [
            "Ada 2180 data dengan windspeed = 0.\n"
          ]
        }
      ],
      "source": [
        "# Mengecek distribusi windspeed\n",
        "sns.histplot(bike_hour['windspeed'], bins=30, kde=True)\n",
        "plt.title(\"Distribusi Windspeed\")\n",
        "plt.show()\n",
        "\n",
        "# Mengecek jumlah nilai windspeed yang bernilai nol\n",
        "zero_windspeed = (bike_hour['windspeed'] == 0).sum()\n",
        "print(f\"Ada {zero_windspeed} data dengan windspeed = 0.\")"
      ]
    },
    {
      "cell_type": "code",
      "execution_count": 27,
      "metadata": {},
      "outputs": [],
      "source": [
        "# Mengganti nilai 0 dengan median untuk variabel 'windspeed'\n",
        "bike_hour['windspeed'] = bike_hour['windspeed'].replace(0, bike_hour['windspeed'].median())"
      ]
    },
    {
      "cell_type": "code",
      "execution_count": 28,
      "metadata": {},
      "outputs": [
        {
          "name": "stdout",
          "output_type": "stream",
          "text": [
            "               temp         atemp           hum     windspeed\n",
            "count  17379.000000  17379.000000  17379.000000  17379.000000\n",
            "mean       0.496987      0.475775      0.628026      0.214433\n",
            "std        0.192556      0.171850      0.191633      0.099215\n",
            "min        0.020000      0.000000      0.080000      0.089600\n",
            "25%        0.340000      0.333300      0.480000      0.134300\n",
            "50%        0.500000      0.484800      0.630000      0.194000\n",
            "75%        0.660000      0.621200      0.780000      0.253700\n",
            "max        1.000000      1.000000      1.000000      0.850700\n"
          ]
        },
        {
          "data": {
            "image/png": "[encoded data removed]",
            "text/plain": [
              "<Figure size 1200x600 with 1 Axes>"
            ]
          },
          "metadata": {},
          "output_type": "display_data"
        }
      ],
      "source": [
        "# Mengecek statistik deskriptif setelah cleaning data\n",
        "print(bike_hour[weather].describe())\n",
        "\n",
        "# Visualisasi Boxplot ulang\n",
        "plt.figure(figsize=(12, 6))\n",
        "sns.boxplot(data=bike_hour[weather])\n",
        "plt.title(\"Boxplot Variabel Cuaca Setelah Cleaning\")\n",
        "plt.show()"
      ]
    },
    {
      "cell_type": "markdown",
      "metadata": {},
      "source": [
        "**Insight:**\n",
        "- Dari boxplot di atas, terlihat bahwa variabel `windspeed` masih memiliki banyak outlier. Hal ini bisa terjadi karena distribusi windspeed cenderung lebih terkonsentrasi di nilai rendah. Namun setelah dilakukan pengecekan outlier pada variabel `windspeed` terjadi secara alami dan bukan error, sehingga outlier ini tidak harus dihapus"
      ]
    },
    {
      "cell_type": "code",
      "execution_count": 29,
      "metadata": {},
      "outputs": [
        {
          "name": "stdout",
          "output_type": "stream",
          "text": [
            "Jumlah nilai nol di variabel cuaca:\n",
            " temp         0\n",
            "atemp        2\n",
            "hum          0\n",
            "windspeed    0\n",
            "dtype: int64\n"
          ]
        }
      ],
      "source": [
        "# Mengecek kembali jumlah nilai 0 di masing-masing variabel cuaca\n",
        "zero = (bike_hour[weather] == 0).sum()\n",
        "print(\"Jumlah nilai nol di variabel cuaca:\\n\", zero)"
      ]
    },
    {
      "cell_type": "markdown",
      "metadata": {},
      "source": [
        "Dari output di atas, terlihat masih ada 2 nilai nol pada variabel `atemp`, sedangkan variabel lainnya sudah bersih dari nilai nol."
      ]
    },
    {
      "cell_type": "code",
      "execution_count": 30,
      "metadata": {},
      "outputs": [
        {
          "data": {
            "image/png": "[encoded data removed]",
            "text/plain": [
              "<Figure size 640x480 with 1 Axes>"
            ]
          },
          "metadata": {},
          "output_type": "display_data"
        }
      ],
      "source": [
        "sns.histplot(bike_hour['atemp'], bins=30, kde=True)\n",
        "plt.show()"
      ]
    },
    {
      "cell_type": "markdown",
      "metadata": {},
      "source": [
        "Dua nilai nol pada variabel `atemp` kemungkinan anomali, karena suhu yang dirasakan seharusnya berkorelasi dengan suhu aktual (`temp`). Selanjutnya akan dilakukan imputasi dengan median karena lebih tahan terhadap outlier dan menjaga distribusi data."
      ]
    },
    {
      "cell_type": "code",
      "execution_count": null,
      "metadata": {},
      "outputs": [],
      "source": [
        "# Mengganti nilai 0 dengan median untuk variabel 'atemp'\n",
        "median_atemp = bike_hour['atemp'].median()\n",
        "bike_hour['atemp'] = bike_hour['atemp'].replace(0, median_atemp)"
      ]
    },
    {
      "cell_type": "code",
      "execution_count": 32,
      "metadata": {},
      "outputs": [
        {
          "name": "stdout",
          "output_type": "stream",
          "text": [
            "Jumlah nilai nol di variabel cuaca:\n",
            " temp         0\n",
            "atemp        0\n",
            "hum          0\n",
            "windspeed    0\n",
            "dtype: int64\n"
          ]
        }
      ],
      "source": [
        "# Cek kembali jumlah nilai 0 di masing-masing variabel cuaca\n",
        "zero = (bike_hour[weather] == 0).sum()\n",
        "print(\"Jumlah nilai nol di variabel cuaca:\\n\", zero)"
      ]
    },
    {
      "cell_type": "markdown",
      "metadata": {},
      "source": [
        "*Dataset setelah tahap cleaning*"
      ]
    },
    {
      "cell_type": "code",
      "execution_count": 33,
      "metadata": {},
      "outputs": [
        {
          "data": {
            "text/html": [
              "<div>\n",
              "<style scoped>\n",
              "    .dataframe tbody tr th:only-of-type {\n",
              "        vertical-align: middle;\n",
              "    }\n",
              "\n",
              "    .dataframe tbody tr th {\n",
              "        vertical-align: top;\n",
              "    }\n",
              "\n",
              "    .dataframe thead th {\n",
              "        text-align: right;\n",
              "    }\n",
              "</style>\n",
              "<table border=\"1\" class=\"dataframe\">\n",
              "  <thead>\n",
              "    <tr style=\"text-align: right;\">\n",
              "      <th></th>\n",
              "      <th>dteday</th>\n",
              "      <th>season</th>\n",
              "      <th>yr</th>\n",
              "      <th>mnth</th>\n",
              "      <th>holiday</th>\n",
              "      <th>weekday</th>\n",
              "      <th>workingday</th>\n",
              "      <th>weathersit</th>\n",
              "      <th>temp</th>\n",
              "      <th>atemp</th>\n",
              "      <th>hum</th>\n",
              "      <th>windspeed</th>\n",
              "      <th>cnt</th>\n",
              "    </tr>\n",
              "  </thead>\n",
              "  <tbody>\n",
              "    <tr>\n",
              "      <th>0</th>\n",
              "      <td>2011-01-01</td>\n",
              "      <td>1</td>\n",
              "      <td>0</td>\n",
              "      <td>1</td>\n",
              "      <td>0</td>\n",
              "      <td>6</td>\n",
              "      <td>0</td>\n",
              "      <td>2</td>\n",
              "      <td>0.344167</td>\n",
              "      <td>0.363625</td>\n",
              "      <td>0.805833</td>\n",
              "      <td>0.160446</td>\n",
              "      <td>985</td>\n",
              "    </tr>\n",
              "    <tr>\n",
              "      <th>1</th>\n",
              "      <td>2011-01-02</td>\n",
              "      <td>1</td>\n",
              "      <td>0</td>\n",
              "      <td>1</td>\n",
              "      <td>0</td>\n",
              "      <td>0</td>\n",
              "      <td>0</td>\n",
              "      <td>2</td>\n",
              "      <td>0.363478</td>\n",
              "      <td>0.353739</td>\n",
              "      <td>0.696087</td>\n",
              "      <td>0.248539</td>\n",
              "      <td>801</td>\n",
              "    </tr>\n",
              "    <tr>\n",
              "      <th>2</th>\n",
              "      <td>2011-01-03</td>\n",
              "      <td>1</td>\n",
              "      <td>0</td>\n",
              "      <td>1</td>\n",
              "      <td>0</td>\n",
              "      <td>1</td>\n",
              "      <td>1</td>\n",
              "      <td>1</td>\n",
              "      <td>0.196364</td>\n",
              "      <td>0.189405</td>\n",
              "      <td>0.437273</td>\n",
              "      <td>0.248309</td>\n",
              "      <td>1349</td>\n",
              "    </tr>\n",
              "    <tr>\n",
              "      <th>3</th>\n",
              "      <td>2011-01-04</td>\n",
              "      <td>1</td>\n",
              "      <td>0</td>\n",
              "      <td>1</td>\n",
              "      <td>0</td>\n",
              "      <td>2</td>\n",
              "      <td>1</td>\n",
              "      <td>1</td>\n",
              "      <td>0.200000</td>\n",
              "      <td>0.212122</td>\n",
              "      <td>0.590435</td>\n",
              "      <td>0.160296</td>\n",
              "      <td>1562</td>\n",
              "    </tr>\n",
              "    <tr>\n",
              "      <th>4</th>\n",
              "      <td>2011-01-05</td>\n",
              "      <td>1</td>\n",
              "      <td>0</td>\n",
              "      <td>1</td>\n",
              "      <td>0</td>\n",
              "      <td>3</td>\n",
              "      <td>1</td>\n",
              "      <td>1</td>\n",
              "      <td>0.226957</td>\n",
              "      <td>0.229270</td>\n",
              "      <td>0.436957</td>\n",
              "      <td>0.186900</td>\n",
              "      <td>1600</td>\n",
              "    </tr>\n",
              "  </tbody>\n",
              "</table>\n",
              "</div>"
            ],
            "text/plain": [
              "      dteday season yr mnth holiday weekday workingday weathersit      temp  \\\n",
              "0 2011-01-01      1  0    1       0       6          0          2  0.344167   \n",
              "1 2011-01-02      1  0    1       0       0          0          2  0.363478   \n",
              "2 2011-01-03      1  0    1       0       1          1          1  0.196364   \n",
              "3 2011-01-04      1  0    1       0       2          1          1  0.200000   \n",
              "4 2011-01-05      1  0    1       0       3          1          1  0.226957   \n",
              "\n",
              "      atemp       hum  windspeed   cnt  \n",
              "0  0.363625  0.805833   0.160446   985  \n",
              "1  0.353739  0.696087   0.248539   801  \n",
              "2  0.189405  0.437273   0.248309  1349  \n",
              "3  0.212122  0.590435   0.160296  1562  \n",
              "4  0.229270  0.436957   0.186900  1600  "
            ]
          },
          "metadata": {},
          "output_type": "display_data"
        },
        {
          "data": {
            "text/html": [
              "<div>\n",
              "<style scoped>\n",
              "    .dataframe tbody tr th:only-of-type {\n",
              "        vertical-align: middle;\n",
              "    }\n",
              "\n",
              "    .dataframe tbody tr th {\n",
              "        vertical-align: top;\n",
              "    }\n",
              "\n",
              "    .dataframe thead th {\n",
              "        text-align: right;\n",
              "    }\n",
              "</style>\n",
              "<table border=\"1\" class=\"dataframe\">\n",
              "  <thead>\n",
              "    <tr style=\"text-align: right;\">\n",
              "      <th></th>\n",
              "      <th>dteday</th>\n",
              "      <th>season</th>\n",
              "      <th>yr</th>\n",
              "      <th>mnth</th>\n",
              "      <th>hr</th>\n",
              "      <th>holiday</th>\n",
              "      <th>weekday</th>\n",
              "      <th>workingday</th>\n",
              "      <th>weathersit</th>\n",
              "      <th>temp</th>\n",
              "      <th>atemp</th>\n",
              "      <th>hum</th>\n",
              "      <th>windspeed</th>\n",
              "      <th>cnt</th>\n",
              "    </tr>\n",
              "  </thead>\n",
              "  <tbody>\n",
              "    <tr>\n",
              "      <th>0</th>\n",
              "      <td>2011-01-01</td>\n",
              "      <td>1</td>\n",
              "      <td>0</td>\n",
              "      <td>1</td>\n",
              "      <td>0</td>\n",
              "      <td>0</td>\n",
              "      <td>6</td>\n",
              "      <td>0</td>\n",
              "      <td>1</td>\n",
              "      <td>0.24</td>\n",
              "      <td>0.2879</td>\n",
              "      <td>0.81</td>\n",
              "      <td>0.194</td>\n",
              "      <td>16</td>\n",
              "    </tr>\n",
              "    <tr>\n",
              "      <th>1</th>\n",
              "      <td>2011-01-01</td>\n",
              "      <td>1</td>\n",
              "      <td>0</td>\n",
              "      <td>1</td>\n",
              "      <td>1</td>\n",
              "      <td>0</td>\n",
              "      <td>6</td>\n",
              "      <td>0</td>\n",
              "      <td>1</td>\n",
              "      <td>0.22</td>\n",
              "      <td>0.2727</td>\n",
              "      <td>0.80</td>\n",
              "      <td>0.194</td>\n",
              "      <td>40</td>\n",
              "    </tr>\n",
              "    <tr>\n",
              "      <th>2</th>\n",
              "      <td>2011-01-01</td>\n",
              "      <td>1</td>\n",
              "      <td>0</td>\n",
              "      <td>1</td>\n",
              "      <td>2</td>\n",
              "      <td>0</td>\n",
              "      <td>6</td>\n",
              "      <td>0</td>\n",
              "      <td>1</td>\n",
              "      <td>0.22</td>\n",
              "      <td>0.2727</td>\n",
              "      <td>0.80</td>\n",
              "      <td>0.194</td>\n",
              "      <td>32</td>\n",
              "    </tr>\n",
              "    <tr>\n",
              "      <th>3</th>\n",
              "      <td>2011-01-01</td>\n",
              "      <td>1</td>\n",
              "      <td>0</td>\n",
              "      <td>1</td>\n",
              "      <td>3</td>\n",
              "      <td>0</td>\n",
              "      <td>6</td>\n",
              "      <td>0</td>\n",
              "      <td>1</td>\n",
              "      <td>0.24</td>\n",
              "      <td>0.2879</td>\n",
              "      <td>0.75</td>\n",
              "      <td>0.194</td>\n",
              "      <td>13</td>\n",
              "    </tr>\n",
              "    <tr>\n",
              "      <th>4</th>\n",
              "      <td>2011-01-01</td>\n",
              "      <td>1</td>\n",
              "      <td>0</td>\n",
              "      <td>1</td>\n",
              "      <td>4</td>\n",
              "      <td>0</td>\n",
              "      <td>6</td>\n",
              "      <td>0</td>\n",
              "      <td>1</td>\n",
              "      <td>0.24</td>\n",
              "      <td>0.2879</td>\n",
              "      <td>0.75</td>\n",
              "      <td>0.194</td>\n",
              "      <td>1</td>\n",
              "    </tr>\n",
              "  </tbody>\n",
              "</table>\n",
              "</div>"
            ],
            "text/plain": [
              "      dteday season yr mnth  hr holiday weekday workingday weathersit  temp  \\\n",
              "0 2011-01-01      1  0    1   0       0       6          0          1  0.24   \n",
              "1 2011-01-01      1  0    1   1       0       6          0          1  0.22   \n",
              "2 2011-01-01      1  0    1   2       0       6          0          1  0.22   \n",
              "3 2011-01-01      1  0    1   3       0       6          0          1  0.24   \n",
              "4 2011-01-01      1  0    1   4       0       6          0          1  0.24   \n",
              "\n",
              "    atemp   hum  windspeed  cnt  \n",
              "0  0.2879  0.81      0.194   16  \n",
              "1  0.2727  0.80      0.194   40  \n",
              "2  0.2727  0.80      0.194   32  \n",
              "3  0.2879  0.75      0.194   13  \n",
              "4  0.2879  0.75      0.194    1  "
            ]
          },
          "metadata": {},
          "output_type": "display_data"
        }
      ],
      "source": [
        "display(bike_day.head())\n",
        "display(bike_hour.head())"
      ]
    },
    {
      "cell_type": "markdown",
      "metadata": {},
      "source": [
        "*file setelah data cleaning disimpan* <br>\n",
        "variabel yang akan digunakan tetap bernama `bike_day` dan `bike_hour`"
      ]
    },
    {
      "cell_type": "markdown",
      "metadata": {
        "id": "gp-Y6wU38DC1"
      },
      "source": [
        "## Exploratory Data Analysis (EDA)"
      ]
    },
    {
      "cell_type": "markdown",
      "metadata": {
        "id": "MW7WF2kr8DC1"
      },
      "source": [
        "### Explore `bike_day`"
      ]
    },
    {
      "cell_type": "code",
      "execution_count": 34,
      "metadata": {},
      "outputs": [
        {
          "data": {
            "text/html": [
              "<div>\n",
              "<style scoped>\n",
              "    .dataframe tbody tr th:only-of-type {\n",
              "        vertical-align: middle;\n",
              "    }\n",
              "\n",
              "    .dataframe tbody tr th {\n",
              "        vertical-align: top;\n",
              "    }\n",
              "\n",
              "    .dataframe thead th {\n",
              "        text-align: right;\n",
              "    }\n",
              "</style>\n",
              "<table border=\"1\" class=\"dataframe\">\n",
              "  <thead>\n",
              "    <tr style=\"text-align: right;\">\n",
              "      <th></th>\n",
              "      <th>dteday</th>\n",
              "      <th>season</th>\n",
              "      <th>yr</th>\n",
              "      <th>mnth</th>\n",
              "      <th>holiday</th>\n",
              "      <th>weekday</th>\n",
              "      <th>workingday</th>\n",
              "      <th>weathersit</th>\n",
              "      <th>temp</th>\n",
              "      <th>atemp</th>\n",
              "      <th>hum</th>\n",
              "      <th>windspeed</th>\n",
              "      <th>cnt</th>\n",
              "    </tr>\n",
              "  </thead>\n",
              "  <tbody>\n",
              "    <tr>\n",
              "      <th>86</th>\n",
              "      <td>2011-03-28</td>\n",
              "      <td>2</td>\n",
              "      <td>0</td>\n",
              "      <td>3</td>\n",
              "      <td>0</td>\n",
              "      <td>1</td>\n",
              "      <td>1</td>\n",
              "      <td>1</td>\n",
              "      <td>0.264348</td>\n",
              "      <td>0.257574</td>\n",
              "      <td>0.302174</td>\n",
              "      <td>0.212204</td>\n",
              "      <td>2028</td>\n",
              "    </tr>\n",
              "    <tr>\n",
              "      <th>251</th>\n",
              "      <td>2011-09-09</td>\n",
              "      <td>3</td>\n",
              "      <td>0</td>\n",
              "      <td>9</td>\n",
              "      <td>0</td>\n",
              "      <td>5</td>\n",
              "      <td>1</td>\n",
              "      <td>2</td>\n",
              "      <td>0.650000</td>\n",
              "      <td>0.578946</td>\n",
              "      <td>0.897917</td>\n",
              "      <td>0.124379</td>\n",
              "      <td>3544</td>\n",
              "    </tr>\n",
              "    <tr>\n",
              "      <th>545</th>\n",
              "      <td>2012-06-29</td>\n",
              "      <td>3</td>\n",
              "      <td>1</td>\n",
              "      <td>6</td>\n",
              "      <td>0</td>\n",
              "      <td>5</td>\n",
              "      <td>1</td>\n",
              "      <td>1</td>\n",
              "      <td>0.834167</td>\n",
              "      <td>0.786613</td>\n",
              "      <td>0.488750</td>\n",
              "      <td>0.165417</td>\n",
              "      <td>5463</td>\n",
              "    </tr>\n",
              "    <tr>\n",
              "      <th>33</th>\n",
              "      <td>2011-02-03</td>\n",
              "      <td>1</td>\n",
              "      <td>0</td>\n",
              "      <td>2</td>\n",
              "      <td>0</td>\n",
              "      <td>4</td>\n",
              "      <td>1</td>\n",
              "      <td>1</td>\n",
              "      <td>0.186957</td>\n",
              "      <td>0.177878</td>\n",
              "      <td>0.437826</td>\n",
              "      <td>0.277752</td>\n",
              "      <td>1550</td>\n",
              "    </tr>\n",
              "    <tr>\n",
              "      <th>316</th>\n",
              "      <td>2011-11-13</td>\n",
              "      <td>4</td>\n",
              "      <td>0</td>\n",
              "      <td>11</td>\n",
              "      <td>0</td>\n",
              "      <td>0</td>\n",
              "      <td>0</td>\n",
              "      <td>1</td>\n",
              "      <td>0.440833</td>\n",
              "      <td>0.430550</td>\n",
              "      <td>0.458333</td>\n",
              "      <td>0.281721</td>\n",
              "      <td>3717</td>\n",
              "    </tr>\n",
              "  </tbody>\n",
              "</table>\n",
              "</div>"
            ],
            "text/plain": [
              "        dteday season yr mnth holiday weekday workingday weathersit      temp  \\\n",
              "86  2011-03-28      2  0    3       0       1          1          1  0.264348   \n",
              "251 2011-09-09      3  0    9       0       5          1          2  0.650000   \n",
              "545 2012-06-29      3  1    6       0       5          1          1  0.834167   \n",
              "33  2011-02-03      1  0    2       0       4          1          1  0.186957   \n",
              "316 2011-11-13      4  0   11       0       0          0          1  0.440833   \n",
              "\n",
              "        atemp       hum  windspeed   cnt  \n",
              "86   0.257574  0.302174   0.212204  2028  \n",
              "251  0.578946  0.897917   0.124379  3544  \n",
              "545  0.786613  0.488750   0.165417  5463  \n",
              "33   0.177878  0.437826   0.277752  1550  \n",
              "316  0.430550  0.458333   0.281721  3717  "
            ]
          },
          "execution_count": 34,
          "metadata": {},
          "output_type": "execute_result"
        }
      ],
      "source": [
        "bike_day.sample(5)"
      ]
    },
    {
      "cell_type": "code",
      "execution_count": 35,
      "metadata": {},
      "outputs": [
        {
          "data": {
            "text/html": [
              "<div>\n",
              "<style scoped>\n",
              "    .dataframe tbody tr th:only-of-type {\n",
              "        vertical-align: middle;\n",
              "    }\n",
              "\n",
              "    .dataframe tbody tr th {\n",
              "        vertical-align: top;\n",
              "    }\n",
              "\n",
              "    .dataframe thead th {\n",
              "        text-align: right;\n",
              "    }\n",
              "</style>\n",
              "<table border=\"1\" class=\"dataframe\">\n",
              "  <thead>\n",
              "    <tr style=\"text-align: right;\">\n",
              "      <th></th>\n",
              "      <th>dteday</th>\n",
              "      <th>season</th>\n",
              "      <th>yr</th>\n",
              "      <th>mnth</th>\n",
              "      <th>holiday</th>\n",
              "      <th>weekday</th>\n",
              "      <th>workingday</th>\n",
              "      <th>weathersit</th>\n",
              "      <th>temp</th>\n",
              "      <th>atemp</th>\n",
              "      <th>hum</th>\n",
              "      <th>windspeed</th>\n",
              "      <th>cnt</th>\n",
              "    </tr>\n",
              "  </thead>\n",
              "  <tbody>\n",
              "    <tr>\n",
              "      <th>count</th>\n",
              "      <td>731</td>\n",
              "      <td>731.0</td>\n",
              "      <td>731.0</td>\n",
              "      <td>731.0</td>\n",
              "      <td>731.0</td>\n",
              "      <td>731.0</td>\n",
              "      <td>731.0</td>\n",
              "      <td>731.0</td>\n",
              "      <td>731.000000</td>\n",
              "      <td>731.000000</td>\n",
              "      <td>731.000000</td>\n",
              "      <td>731.000000</td>\n",
              "      <td>731.000000</td>\n",
              "    </tr>\n",
              "    <tr>\n",
              "      <th>unique</th>\n",
              "      <td>NaN</td>\n",
              "      <td>4.0</td>\n",
              "      <td>2.0</td>\n",
              "      <td>12.0</td>\n",
              "      <td>2.0</td>\n",
              "      <td>7.0</td>\n",
              "      <td>2.0</td>\n",
              "      <td>3.0</td>\n",
              "      <td>NaN</td>\n",
              "      <td>NaN</td>\n",
              "      <td>NaN</td>\n",
              "      <td>NaN</td>\n",
              "      <td>NaN</td>\n",
              "    </tr>\n",
              "    <tr>\n",
              "      <th>top</th>\n",
              "      <td>NaN</td>\n",
              "      <td>3.0</td>\n",
              "      <td>1.0</td>\n",
              "      <td>1.0</td>\n",
              "      <td>0.0</td>\n",
              "      <td>0.0</td>\n",
              "      <td>1.0</td>\n",
              "      <td>1.0</td>\n",
              "      <td>NaN</td>\n",
              "      <td>NaN</td>\n",
              "      <td>NaN</td>\n",
              "      <td>NaN</td>\n",
              "      <td>NaN</td>\n",
              "    </tr>\n",
              "    <tr>\n",
              "      <th>freq</th>\n",
              "      <td>NaN</td>\n",
              "      <td>188.0</td>\n",
              "      <td>366.0</td>\n",
              "      <td>62.0</td>\n",
              "      <td>710.0</td>\n",
              "      <td>105.0</td>\n",
              "      <td>500.0</td>\n",
              "      <td>463.0</td>\n",
              "      <td>NaN</td>\n",
              "      <td>NaN</td>\n",
              "      <td>NaN</td>\n",
              "      <td>NaN</td>\n",
              "      <td>NaN</td>\n",
              "    </tr>\n",
              "    <tr>\n",
              "      <th>mean</th>\n",
              "      <td>2012-01-01 00:00:00</td>\n",
              "      <td>NaN</td>\n",
              "      <td>NaN</td>\n",
              "      <td>NaN</td>\n",
              "      <td>NaN</td>\n",
              "      <td>NaN</td>\n",
              "      <td>NaN</td>\n",
              "      <td>NaN</td>\n",
              "      <td>0.495385</td>\n",
              "      <td>0.474354</td>\n",
              "      <td>0.628751</td>\n",
              "      <td>0.190486</td>\n",
              "      <td>4504.348837</td>\n",
              "    </tr>\n",
              "    <tr>\n",
              "      <th>min</th>\n",
              "      <td>2011-01-01 00:00:00</td>\n",
              "      <td>NaN</td>\n",
              "      <td>NaN</td>\n",
              "      <td>NaN</td>\n",
              "      <td>NaN</td>\n",
              "      <td>NaN</td>\n",
              "      <td>NaN</td>\n",
              "      <td>NaN</td>\n",
              "      <td>0.059130</td>\n",
              "      <td>0.079070</td>\n",
              "      <td>0.187917</td>\n",
              "      <td>0.022392</td>\n",
              "      <td>22.000000</td>\n",
              "    </tr>\n",
              "    <tr>\n",
              "      <th>25%</th>\n",
              "      <td>2011-07-02 12:00:00</td>\n",
              "      <td>NaN</td>\n",
              "      <td>NaN</td>\n",
              "      <td>NaN</td>\n",
              "      <td>NaN</td>\n",
              "      <td>NaN</td>\n",
              "      <td>NaN</td>\n",
              "      <td>NaN</td>\n",
              "      <td>0.337083</td>\n",
              "      <td>0.337842</td>\n",
              "      <td>0.521041</td>\n",
              "      <td>0.134950</td>\n",
              "      <td>3152.000000</td>\n",
              "    </tr>\n",
              "    <tr>\n",
              "      <th>50%</th>\n",
              "      <td>2012-01-01 00:00:00</td>\n",
              "      <td>NaN</td>\n",
              "      <td>NaN</td>\n",
              "      <td>NaN</td>\n",
              "      <td>NaN</td>\n",
              "      <td>NaN</td>\n",
              "      <td>NaN</td>\n",
              "      <td>NaN</td>\n",
              "      <td>0.498333</td>\n",
              "      <td>0.486733</td>\n",
              "      <td>0.626667</td>\n",
              "      <td>0.180975</td>\n",
              "      <td>4548.000000</td>\n",
              "    </tr>\n",
              "    <tr>\n",
              "      <th>75%</th>\n",
              "      <td>2012-07-01 12:00:00</td>\n",
              "      <td>NaN</td>\n",
              "      <td>NaN</td>\n",
              "      <td>NaN</td>\n",
              "      <td>NaN</td>\n",
              "      <td>NaN</td>\n",
              "      <td>NaN</td>\n",
              "      <td>NaN</td>\n",
              "      <td>0.655417</td>\n",
              "      <td>0.608602</td>\n",
              "      <td>0.730209</td>\n",
              "      <td>0.233214</td>\n",
              "      <td>5956.000000</td>\n",
              "    </tr>\n",
              "    <tr>\n",
              "      <th>max</th>\n",
              "      <td>2012-12-31 00:00:00</td>\n",
              "      <td>NaN</td>\n",
              "      <td>NaN</td>\n",
              "      <td>NaN</td>\n",
              "      <td>NaN</td>\n",
              "      <td>NaN</td>\n",
              "      <td>NaN</td>\n",
              "      <td>NaN</td>\n",
              "      <td>0.861667</td>\n",
              "      <td>0.840896</td>\n",
              "      <td>0.972500</td>\n",
              "      <td>0.507463</td>\n",
              "      <td>8714.000000</td>\n",
              "    </tr>\n",
              "    <tr>\n",
              "      <th>std</th>\n",
              "      <td>NaN</td>\n",
              "      <td>NaN</td>\n",
              "      <td>NaN</td>\n",
              "      <td>NaN</td>\n",
              "      <td>NaN</td>\n",
              "      <td>NaN</td>\n",
              "      <td>NaN</td>\n",
              "      <td>NaN</td>\n",
              "      <td>0.183051</td>\n",
              "      <td>0.162961</td>\n",
              "      <td>0.140518</td>\n",
              "      <td>0.077498</td>\n",
              "      <td>1937.211452</td>\n",
              "    </tr>\n",
              "  </tbody>\n",
              "</table>\n",
              "</div>"
            ],
            "text/plain": [
              "                     dteday  season     yr   mnth  holiday  weekday  \\\n",
              "count                   731   731.0  731.0  731.0    731.0    731.0   \n",
              "unique                  NaN     4.0    2.0   12.0      2.0      7.0   \n",
              "top                     NaN     3.0    1.0    1.0      0.0      0.0   \n",
              "freq                    NaN   188.0  366.0   62.0    710.0    105.0   \n",
              "mean    2012-01-01 00:00:00     NaN    NaN    NaN      NaN      NaN   \n",
              "min     2011-01-01 00:00:00     NaN    NaN    NaN      NaN      NaN   \n",
              "25%     2011-07-02 12:00:00     NaN    NaN    NaN      NaN      NaN   \n",
              "50%     2012-01-01 00:00:00     NaN    NaN    NaN      NaN      NaN   \n",
              "75%     2012-07-01 12:00:00     NaN    NaN    NaN      NaN      NaN   \n",
              "max     2012-12-31 00:00:00     NaN    NaN    NaN      NaN      NaN   \n",
              "std                     NaN     NaN    NaN    NaN      NaN      NaN   \n",
              "\n",
              "        workingday  weathersit        temp       atemp         hum  \\\n",
              "count        731.0       731.0  731.000000  731.000000  731.000000   \n",
              "unique         2.0         3.0         NaN         NaN         NaN   \n",
              "top            1.0         1.0         NaN         NaN         NaN   \n",
              "freq         500.0       463.0         NaN         NaN         NaN   \n",
              "mean           NaN         NaN    0.495385    0.474354    0.628751   \n",
              "min            NaN         NaN    0.059130    0.079070    0.187917   \n",
              "25%            NaN         NaN    0.337083    0.337842    0.521041   \n",
              "50%            NaN         NaN    0.498333    0.486733    0.626667   \n",
              "75%            NaN         NaN    0.655417    0.608602    0.730209   \n",
              "max            NaN         NaN    0.861667    0.840896    0.972500   \n",
              "std            NaN         NaN    0.183051    0.162961    0.140518   \n",
              "\n",
              "         windspeed          cnt  \n",
              "count   731.000000   731.000000  \n",
              "unique         NaN          NaN  \n",
              "top            NaN          NaN  \n",
              "freq           NaN          NaN  \n",
              "mean      0.190486  4504.348837  \n",
              "min       0.022392    22.000000  \n",
              "25%       0.134950  3152.000000  \n",
              "50%       0.180975  4548.000000  \n",
              "75%       0.233214  5956.000000  \n",
              "max       0.507463  8714.000000  \n",
              "std       0.077498  1937.211452  "
            ]
          },
          "execution_count": 35,
          "metadata": {},
          "output_type": "execute_result"
        }
      ],
      "source": [
        "bike_day.describe(include=\"all\")"
      ]
    },
    {
      "cell_type": "code",
      "execution_count": 36,
      "metadata": {
        "id": "e9CQCZjk8DC2"
      },
      "outputs": [
        {
          "name": "stderr",
          "output_type": "stream",
          "text": [
            "C:\\Users\\ASUS\\AppData\\Local\\Temp\\ipykernel_7876\\1380402186.py:2: FutureWarning: The default of observed=False is deprecated and will be changed to True in a future version of pandas. Pass observed=False to retain current behavior or observed=True to adopt the future default and silence this warning.\n",
            "  bike_day.groupby(by=\"season\").agg({\n"
          ]
        },
        {
          "data": {
            "text/html": [
              "<div>\n",
              "<style scoped>\n",
              "    .dataframe tbody tr th:only-of-type {\n",
              "        vertical-align: middle;\n",
              "    }\n",
              "\n",
              "    .dataframe tbody tr th {\n",
              "        vertical-align: top;\n",
              "    }\n",
              "\n",
              "    .dataframe thead tr th {\n",
              "        text-align: left;\n",
              "    }\n",
              "\n",
              "    .dataframe thead tr:last-of-type th {\n",
              "        text-align: right;\n",
              "    }\n",
              "</style>\n",
              "<table border=\"1\" class=\"dataframe\">\n",
              "  <thead>\n",
              "    <tr>\n",
              "      <th></th>\n",
              "      <th colspan=\"4\" halign=\"left\">cnt</th>\n",
              "    </tr>\n",
              "    <tr>\n",
              "      <th></th>\n",
              "      <th>max</th>\n",
              "      <th>min</th>\n",
              "      <th>mean</th>\n",
              "      <th>std</th>\n",
              "    </tr>\n",
              "    <tr>\n",
              "      <th>season</th>\n",
              "      <th></th>\n",
              "      <th></th>\n",
              "      <th></th>\n",
              "      <th></th>\n",
              "    </tr>\n",
              "  </thead>\n",
              "  <tbody>\n",
              "    <tr>\n",
              "      <th>1</th>\n",
              "      <td>7836</td>\n",
              "      <td>431</td>\n",
              "      <td>2604.132597</td>\n",
              "      <td>1399.942119</td>\n",
              "    </tr>\n",
              "    <tr>\n",
              "      <th>2</th>\n",
              "      <td>8362</td>\n",
              "      <td>795</td>\n",
              "      <td>4992.331522</td>\n",
              "      <td>1695.977235</td>\n",
              "    </tr>\n",
              "    <tr>\n",
              "      <th>3</th>\n",
              "      <td>8714</td>\n",
              "      <td>1115</td>\n",
              "      <td>5644.303191</td>\n",
              "      <td>1459.800381</td>\n",
              "    </tr>\n",
              "    <tr>\n",
              "      <th>4</th>\n",
              "      <td>8555</td>\n",
              "      <td>22</td>\n",
              "      <td>4728.162921</td>\n",
              "      <td>1699.615261</td>\n",
              "    </tr>\n",
              "  </tbody>\n",
              "</table>\n",
              "</div>"
            ],
            "text/plain": [
              "         cnt                                \n",
              "         max   min         mean          std\n",
              "season                                      \n",
              "1       7836   431  2604.132597  1399.942119\n",
              "2       8362   795  4992.331522  1695.977235\n",
              "3       8714  1115  5644.303191  1459.800381\n",
              "4       8555    22  4728.162921  1699.615261"
            ]
          },
          "execution_count": 36,
          "metadata": {},
          "output_type": "execute_result"
        }
      ],
      "source": [
        "# Mengelompokkan data berdasarkan musim dan melihat statistik peminjaman sepeda\n",
        "bike_day.groupby(by=\"season\").agg({\n",
        "    \"cnt\": [\"max\", \"min\", \"mean\", \"std\"]\n",
        "})"
      ]
    },
    {
      "cell_type": "markdown",
      "metadata": {},
      "source": [
        "- Musim yang memiliki rata-rata peminjaman `tertinggi` adalah `musim gugur` (5644), sementara musim yang memiliki rata-rata peminjaman `terendah` adalah `musim semi` (2604).\n",
        "- Standar deviasi cukup besar di semua musim, menunjukkan variasi peminjaman yang signifikan.\n",
        "- Peminjaman `tertinggi` terjadi di `musim gugur` (8714), dan peminjaman `terendah` di `musim dingin` (22).\n"
      ]
    },
    {
      "cell_type": "code",
      "execution_count": 37,
      "metadata": {},
      "outputs": [
        {
          "name": "stderr",
          "output_type": "stream",
          "text": [
            "C:\\Users\\ASUS\\AppData\\Local\\Temp\\ipykernel_7876\\1734850221.py:2: FutureWarning: The default of observed=False is deprecated and will be changed to True in a future version of pandas. Pass observed=False to retain current behavior or observed=True to adopt the future default and silence this warning.\n",
            "  bike_day.groupby(by=\"workingday\").cnt.sum()\n"
          ]
        },
        {
          "data": {
            "text/plain": [
              "workingday\n",
              "0    1000269\n",
              "1    2292410\n",
              "Name: cnt, dtype: int64"
            ]
          },
          "execution_count": 37,
          "metadata": {},
          "output_type": "execute_result"
        }
      ],
      "source": [
        "# Mengelompokkan data berdasarkan hari kerja ('workingday') dan melihat jumlah peminjaman\n",
        "bike_day.groupby(by=\"workingday\").cnt.sum()"
      ]
    },
    {
      "cell_type": "markdown",
      "metadata": {},
      "source": [
        "- Peminjaman sepeda lebih banyak saat `hari kerja = 1` dengan total 2.292.410 peminjaman dibandingkan `hari libur = 0` dengan total 1.000.269 peminjaman."
      ]
    },
    {
      "cell_type": "code",
      "execution_count": 38,
      "metadata": {},
      "outputs": [
        {
          "name": "stderr",
          "output_type": "stream",
          "text": [
            "C:\\Users\\ASUS\\AppData\\Local\\Temp\\ipykernel_7876\\733175409.py:2: FutureWarning: The default of observed=False is deprecated and will be changed to True in a future version of pandas. Pass observed=False to retain current behavior or observed=True to adopt the future default and silence this warning.\n",
            "  bike_day.groupby(by=\"weathersit\").cnt.agg([\"count\", \"mean\", \"sum\"]).sort_values(by=\"sum\", ascending=False)\n"
          ]
        },
        {
          "data": {
            "text/html": [
              "<div>\n",
              "<style scoped>\n",
              "    .dataframe tbody tr th:only-of-type {\n",
              "        vertical-align: middle;\n",
              "    }\n",
              "\n",
              "    .dataframe tbody tr th {\n",
              "        vertical-align: top;\n",
              "    }\n",
              "\n",
              "    .dataframe thead th {\n",
              "        text-align: right;\n",
              "    }\n",
              "</style>\n",
              "<table border=\"1\" class=\"dataframe\">\n",
              "  <thead>\n",
              "    <tr style=\"text-align: right;\">\n",
              "      <th></th>\n",
              "      <th>count</th>\n",
              "      <th>mean</th>\n",
              "      <th>sum</th>\n",
              "    </tr>\n",
              "    <tr>\n",
              "      <th>weathersit</th>\n",
              "      <th></th>\n",
              "      <th></th>\n",
              "      <th></th>\n",
              "    </tr>\n",
              "  </thead>\n",
              "  <tbody>\n",
              "    <tr>\n",
              "      <th>1</th>\n",
              "      <td>463</td>\n",
              "      <td>4876.786177</td>\n",
              "      <td>2257952</td>\n",
              "    </tr>\n",
              "    <tr>\n",
              "      <th>2</th>\n",
              "      <td>247</td>\n",
              "      <td>4035.862348</td>\n",
              "      <td>996858</td>\n",
              "    </tr>\n",
              "    <tr>\n",
              "      <th>3</th>\n",
              "      <td>21</td>\n",
              "      <td>1803.285714</td>\n",
              "      <td>37869</td>\n",
              "    </tr>\n",
              "  </tbody>\n",
              "</table>\n",
              "</div>"
            ],
            "text/plain": [
              "            count         mean      sum\n",
              "weathersit                             \n",
              "1             463  4876.786177  2257952\n",
              "2             247  4035.862348   996858\n",
              "3              21  1803.285714    37869"
            ]
          },
          "execution_count": 38,
          "metadata": {},
          "output_type": "execute_result"
        }
      ],
      "source": [
        "# Mengelompokkan data berdasarkan kondisi cuaca dan melihat distribusi peminjaman\n",
        "bike_day.groupby(by=\"weathersit\").cnt.agg([\"count\", \"mean\", \"sum\"]).sort_values(by=\"sum\", ascending=False)"
      ]
    },
    {
      "cell_type": "markdown",
      "metadata": {},
      "source": [
        "tidak ada `weathersit` dengan kode 4 pada data asli"
      ]
    },
    {
      "cell_type": "markdown",
      "metadata": {},
      "source": [
        "- Kondisi cuaca terbaik (`weathersit = 1, cerah`) memiliki jumlah peminjaman tertinggi dengan total 2.257.952 peminjaman dan rata-rata harian 4.876 peminjaman.\n",
        "- Saat cuaca kurang baik (`weathersit = 2, berawan`), peminjaman menurun (total 996.858).\n",
        "- Kondisi terburuk (`weathersit = 3, hujan ringan`) memiliki peminjaman terendah, hanya 37.869 total peminjaman."
      ]
    },
    {
      "cell_type": "code",
      "execution_count": 39,
      "metadata": {},
      "outputs": [
        {
          "name": "stderr",
          "output_type": "stream",
          "text": [
            "C:\\Users\\ASUS\\AppData\\Local\\Temp\\ipykernel_7876\\1751511409.py:2: FutureWarning: The default of observed=False is deprecated and will be changed to True in a future version of pandas. Pass observed=False to retain current behavior or observed=True to adopt the future default and silence this warning.\n",
            "  bike_day.groupby(by=\"mnth\").cnt.sum().sort_values(ascending=False)\n"
          ]
        },
        {
          "data": {
            "text/plain": [
              "mnth\n",
              "8     351194\n",
              "6     346342\n",
              "9     345991\n",
              "7     344948\n",
              "5     331686\n",
              "10    322352\n",
              "4     269094\n",
              "11    254831\n",
              "3     228920\n",
              "12    211036\n",
              "2     151352\n",
              "1     134933\n",
              "Name: cnt, dtype: int64"
            ]
          },
          "execution_count": 39,
          "metadata": {},
          "output_type": "execute_result"
        }
      ],
      "source": [
        "# Menganalisis jumlah peminjaman berdasarkan bulan\n",
        "bike_day.groupby(by=\"mnth\").cnt.sum().sort_values(ascending=False)"
      ]
    },
    {
      "cell_type": "markdown",
      "metadata": {
        "id": "th_Lzl2Fkj9O"
      },
      "source": [
        "- Bulan dengan `peminjaman tertinggi` adalah `Agustus` (351.194), `Juni` (346.342), dan `September` (345.991). Sedangkan bulan dengan `peminjaman terendah` adalah bulan `Januari` (134.933)."
      ]
    },
    {
      "cell_type": "markdown",
      "metadata": {},
      "source": [
        "**Insight:**\n",
        "- Sepeda lebih banyak dipinjam saat musim gugur dan paling sedikit saat musim semi.\n",
        "- Saat ari kerja jumlah peminjaman lebih tinggi dibandingkan hari libur, hal ini menunjukkan bahwa sepeda banyak digunakan untuk transportasi rutin.\n",
        "- Cuaca sangat memengaruhi peminjaman, di mana cuaca cerah meningkatkan jumlah peminjaman, sementara hujan ringan atau kabut membuat jumlah peminjaman turun drastis.\n",
        "- Bulan-bulan musim panas yaitu Mei–September mengalami peminjaman tertinggi, sementara musim dingin yaitu Desember–Februari mengalami jumlah peminjaman terendah."
      ]
    },
    {
      "cell_type": "markdown",
      "metadata": {},
      "source": [
        "### Explore `bike_hour`"
      ]
    },
    {
      "cell_type": "code",
      "execution_count": 40,
      "metadata": {},
      "outputs": [
        {
          "data": {
            "text/html": [
              "<div>\n",
              "<style scoped>\n",
              "    .dataframe tbody tr th:only-of-type {\n",
              "        vertical-align: middle;\n",
              "    }\n",
              "\n",
              "    .dataframe tbody tr th {\n",
              "        vertical-align: top;\n",
              "    }\n",
              "\n",
              "    .dataframe thead th {\n",
              "        text-align: right;\n",
              "    }\n",
              "</style>\n",
              "<table border=\"1\" class=\"dataframe\">\n",
              "  <thead>\n",
              "    <tr style=\"text-align: right;\">\n",
              "      <th></th>\n",
              "      <th>dteday</th>\n",
              "      <th>season</th>\n",
              "      <th>yr</th>\n",
              "      <th>mnth</th>\n",
              "      <th>hr</th>\n",
              "      <th>holiday</th>\n",
              "      <th>weekday</th>\n",
              "      <th>workingday</th>\n",
              "      <th>weathersit</th>\n",
              "      <th>temp</th>\n",
              "      <th>atemp</th>\n",
              "      <th>hum</th>\n",
              "      <th>windspeed</th>\n",
              "      <th>cnt</th>\n",
              "    </tr>\n",
              "  </thead>\n",
              "  <tbody>\n",
              "    <tr>\n",
              "      <th>819</th>\n",
              "      <td>2011-02-06</td>\n",
              "      <td>1</td>\n",
              "      <td>0</td>\n",
              "      <td>2</td>\n",
              "      <td>14</td>\n",
              "      <td>0</td>\n",
              "      <td>0</td>\n",
              "      <td>0</td>\n",
              "      <td>1</td>\n",
              "      <td>0.34</td>\n",
              "      <td>0.3485</td>\n",
              "      <td>0.46</td>\n",
              "      <td>0.0896</td>\n",
              "      <td>161</td>\n",
              "    </tr>\n",
              "    <tr>\n",
              "      <th>17037</th>\n",
              "      <td>2012-12-17</td>\n",
              "      <td>4</td>\n",
              "      <td>1</td>\n",
              "      <td>12</td>\n",
              "      <td>16</td>\n",
              "      <td>0</td>\n",
              "      <td>1</td>\n",
              "      <td>1</td>\n",
              "      <td>3</td>\n",
              "      <td>0.40</td>\n",
              "      <td>0.4091</td>\n",
              "      <td>0.94</td>\n",
              "      <td>0.2537</td>\n",
              "      <td>302</td>\n",
              "    </tr>\n",
              "    <tr>\n",
              "      <th>7364</th>\n",
              "      <td>2011-11-08</td>\n",
              "      <td>4</td>\n",
              "      <td>0</td>\n",
              "      <td>11</td>\n",
              "      <td>11</td>\n",
              "      <td>0</td>\n",
              "      <td>2</td>\n",
              "      <td>1</td>\n",
              "      <td>1</td>\n",
              "      <td>0.46</td>\n",
              "      <td>0.4545</td>\n",
              "      <td>0.63</td>\n",
              "      <td>0.1343</td>\n",
              "      <td>147</td>\n",
              "    </tr>\n",
              "    <tr>\n",
              "      <th>3688</th>\n",
              "      <td>2011-06-07</td>\n",
              "      <td>2</td>\n",
              "      <td>0</td>\n",
              "      <td>6</td>\n",
              "      <td>14</td>\n",
              "      <td>0</td>\n",
              "      <td>2</td>\n",
              "      <td>1</td>\n",
              "      <td>2</td>\n",
              "      <td>0.80</td>\n",
              "      <td>0.7273</td>\n",
              "      <td>0.43</td>\n",
              "      <td>0.2836</td>\n",
              "      <td>146</td>\n",
              "    </tr>\n",
              "    <tr>\n",
              "      <th>699</th>\n",
              "      <td>2011-02-01</td>\n",
              "      <td>1</td>\n",
              "      <td>0</td>\n",
              "      <td>2</td>\n",
              "      <td>12</td>\n",
              "      <td>0</td>\n",
              "      <td>2</td>\n",
              "      <td>1</td>\n",
              "      <td>2</td>\n",
              "      <td>0.20</td>\n",
              "      <td>0.2576</td>\n",
              "      <td>0.86</td>\n",
              "      <td>0.1940</td>\n",
              "      <td>55</td>\n",
              "    </tr>\n",
              "  </tbody>\n",
              "</table>\n",
              "</div>"
            ],
            "text/plain": [
              "          dteday season yr mnth  hr holiday weekday workingday weathersit  \\\n",
              "819   2011-02-06      1  0    2  14       0       0          0          1   \n",
              "17037 2012-12-17      4  1   12  16       0       1          1          3   \n",
              "7364  2011-11-08      4  0   11  11       0       2          1          1   \n",
              "3688  2011-06-07      2  0    6  14       0       2          1          2   \n",
              "699   2011-02-01      1  0    2  12       0       2          1          2   \n",
              "\n",
              "       temp   atemp   hum  windspeed  cnt  \n",
              "819    0.34  0.3485  0.46     0.0896  161  \n",
              "17037  0.40  0.4091  0.94     0.2537  302  \n",
              "7364   0.46  0.4545  0.63     0.1343  147  \n",
              "3688   0.80  0.7273  0.43     0.2836  146  \n",
              "699    0.20  0.2576  0.86     0.1940   55  "
            ]
          },
          "execution_count": 40,
          "metadata": {},
          "output_type": "execute_result"
        }
      ],
      "source": [
        "bike_hour.sample(5)"
      ]
    },
    {
      "cell_type": "code",
      "execution_count": 41,
      "metadata": {},
      "outputs": [
        {
          "data": {
            "text/html": [
              "<div>\n",
              "<style scoped>\n",
              "    .dataframe tbody tr th:only-of-type {\n",
              "        vertical-align: middle;\n",
              "    }\n",
              "\n",
              "    .dataframe tbody tr th {\n",
              "        vertical-align: top;\n",
              "    }\n",
              "\n",
              "    .dataframe thead th {\n",
              "        text-align: right;\n",
              "    }\n",
              "</style>\n",
              "<table border=\"1\" class=\"dataframe\">\n",
              "  <thead>\n",
              "    <tr style=\"text-align: right;\">\n",
              "      <th></th>\n",
              "      <th>dteday</th>\n",
              "      <th>season</th>\n",
              "      <th>yr</th>\n",
              "      <th>mnth</th>\n",
              "      <th>hr</th>\n",
              "      <th>holiday</th>\n",
              "      <th>weekday</th>\n",
              "      <th>workingday</th>\n",
              "      <th>weathersit</th>\n",
              "      <th>temp</th>\n",
              "      <th>atemp</th>\n",
              "      <th>hum</th>\n",
              "      <th>windspeed</th>\n",
              "      <th>cnt</th>\n",
              "    </tr>\n",
              "  </thead>\n",
              "  <tbody>\n",
              "    <tr>\n",
              "      <th>count</th>\n",
              "      <td>17379</td>\n",
              "      <td>17379.0</td>\n",
              "      <td>17379.0</td>\n",
              "      <td>17379.0</td>\n",
              "      <td>17379.000000</td>\n",
              "      <td>17379.0</td>\n",
              "      <td>17379.0</td>\n",
              "      <td>17379.0</td>\n",
              "      <td>17379.0</td>\n",
              "      <td>17379.000000</td>\n",
              "      <td>17379.000000</td>\n",
              "      <td>17379.000000</td>\n",
              "      <td>17379.000000</td>\n",
              "      <td>17379.000000</td>\n",
              "    </tr>\n",
              "    <tr>\n",
              "      <th>unique</th>\n",
              "      <td>NaN</td>\n",
              "      <td>4.0</td>\n",
              "      <td>2.0</td>\n",
              "      <td>12.0</td>\n",
              "      <td>NaN</td>\n",
              "      <td>2.0</td>\n",
              "      <td>7.0</td>\n",
              "      <td>2.0</td>\n",
              "      <td>4.0</td>\n",
              "      <td>NaN</td>\n",
              "      <td>NaN</td>\n",
              "      <td>NaN</td>\n",
              "      <td>NaN</td>\n",
              "      <td>NaN</td>\n",
              "    </tr>\n",
              "    <tr>\n",
              "      <th>top</th>\n",
              "      <td>NaN</td>\n",
              "      <td>3.0</td>\n",
              "      <td>1.0</td>\n",
              "      <td>5.0</td>\n",
              "      <td>NaN</td>\n",
              "      <td>0.0</td>\n",
              "      <td>6.0</td>\n",
              "      <td>1.0</td>\n",
              "      <td>1.0</td>\n",
              "      <td>NaN</td>\n",
              "      <td>NaN</td>\n",
              "      <td>NaN</td>\n",
              "      <td>NaN</td>\n",
              "      <td>NaN</td>\n",
              "    </tr>\n",
              "    <tr>\n",
              "      <th>freq</th>\n",
              "      <td>NaN</td>\n",
              "      <td>4496.0</td>\n",
              "      <td>8734.0</td>\n",
              "      <td>1488.0</td>\n",
              "      <td>NaN</td>\n",
              "      <td>16879.0</td>\n",
              "      <td>2512.0</td>\n",
              "      <td>11865.0</td>\n",
              "      <td>11413.0</td>\n",
              "      <td>NaN</td>\n",
              "      <td>NaN</td>\n",
              "      <td>NaN</td>\n",
              "      <td>NaN</td>\n",
              "      <td>NaN</td>\n",
              "    </tr>\n",
              "    <tr>\n",
              "      <th>mean</th>\n",
              "      <td>2012-01-02 04:08:34.552045568</td>\n",
              "      <td>NaN</td>\n",
              "      <td>NaN</td>\n",
              "      <td>NaN</td>\n",
              "      <td>11.546752</td>\n",
              "      <td>NaN</td>\n",
              "      <td>NaN</td>\n",
              "      <td>NaN</td>\n",
              "      <td>NaN</td>\n",
              "      <td>0.496987</td>\n",
              "      <td>0.475831</td>\n",
              "      <td>0.628026</td>\n",
              "      <td>0.214433</td>\n",
              "      <td>189.463088</td>\n",
              "    </tr>\n",
              "    <tr>\n",
              "      <th>min</th>\n",
              "      <td>2011-01-01 00:00:00</td>\n",
              "      <td>NaN</td>\n",
              "      <td>NaN</td>\n",
              "      <td>NaN</td>\n",
              "      <td>0.000000</td>\n",
              "      <td>NaN</td>\n",
              "      <td>NaN</td>\n",
              "      <td>NaN</td>\n",
              "      <td>NaN</td>\n",
              "      <td>0.020000</td>\n",
              "      <td>0.015200</td>\n",
              "      <td>0.080000</td>\n",
              "      <td>0.089600</td>\n",
              "      <td>1.000000</td>\n",
              "    </tr>\n",
              "    <tr>\n",
              "      <th>25%</th>\n",
              "      <td>2011-07-04 00:00:00</td>\n",
              "      <td>NaN</td>\n",
              "      <td>NaN</td>\n",
              "      <td>NaN</td>\n",
              "      <td>6.000000</td>\n",
              "      <td>NaN</td>\n",
              "      <td>NaN</td>\n",
              "      <td>NaN</td>\n",
              "      <td>NaN</td>\n",
              "      <td>0.340000</td>\n",
              "      <td>0.333300</td>\n",
              "      <td>0.480000</td>\n",
              "      <td>0.134300</td>\n",
              "      <td>40.000000</td>\n",
              "    </tr>\n",
              "    <tr>\n",
              "      <th>50%</th>\n",
              "      <td>2012-01-02 00:00:00</td>\n",
              "      <td>NaN</td>\n",
              "      <td>NaN</td>\n",
              "      <td>NaN</td>\n",
              "      <td>12.000000</td>\n",
              "      <td>NaN</td>\n",
              "      <td>NaN</td>\n",
              "      <td>NaN</td>\n",
              "      <td>NaN</td>\n",
              "      <td>0.500000</td>\n",
              "      <td>0.484800</td>\n",
              "      <td>0.630000</td>\n",
              "      <td>0.194000</td>\n",
              "      <td>142.000000</td>\n",
              "    </tr>\n",
              "    <tr>\n",
              "      <th>75%</th>\n",
              "      <td>2012-07-02 00:00:00</td>\n",
              "      <td>NaN</td>\n",
              "      <td>NaN</td>\n",
              "      <td>NaN</td>\n",
              "      <td>18.000000</td>\n",
              "      <td>NaN</td>\n",
              "      <td>NaN</td>\n",
              "      <td>NaN</td>\n",
              "      <td>NaN</td>\n",
              "      <td>0.660000</td>\n",
              "      <td>0.621200</td>\n",
              "      <td>0.780000</td>\n",
              "      <td>0.253700</td>\n",
              "      <td>281.000000</td>\n",
              "    </tr>\n",
              "    <tr>\n",
              "      <th>max</th>\n",
              "      <td>2012-12-31 00:00:00</td>\n",
              "      <td>NaN</td>\n",
              "      <td>NaN</td>\n",
              "      <td>NaN</td>\n",
              "      <td>23.000000</td>\n",
              "      <td>NaN</td>\n",
              "      <td>NaN</td>\n",
              "      <td>NaN</td>\n",
              "      <td>NaN</td>\n",
              "      <td>1.000000</td>\n",
              "      <td>1.000000</td>\n",
              "      <td>1.000000</td>\n",
              "      <td>0.850700</td>\n",
              "      <td>977.000000</td>\n",
              "    </tr>\n",
              "    <tr>\n",
              "      <th>std</th>\n",
              "      <td>NaN</td>\n",
              "      <td>NaN</td>\n",
              "      <td>NaN</td>\n",
              "      <td>NaN</td>\n",
              "      <td>6.914405</td>\n",
              "      <td>NaN</td>\n",
              "      <td>NaN</td>\n",
              "      <td>NaN</td>\n",
              "      <td>NaN</td>\n",
              "      <td>0.192556</td>\n",
              "      <td>0.171774</td>\n",
              "      <td>0.191633</td>\n",
              "      <td>0.099215</td>\n",
              "      <td>181.387599</td>\n",
              "    </tr>\n",
              "  </tbody>\n",
              "</table>\n",
              "</div>"
            ],
            "text/plain": [
              "                               dteday   season       yr     mnth  \\\n",
              "count                           17379  17379.0  17379.0  17379.0   \n",
              "unique                            NaN      4.0      2.0     12.0   \n",
              "top                               NaN      3.0      1.0      5.0   \n",
              "freq                              NaN   4496.0   8734.0   1488.0   \n",
              "mean    2012-01-02 04:08:34.552045568      NaN      NaN      NaN   \n",
              "min               2011-01-01 00:00:00      NaN      NaN      NaN   \n",
              "25%               2011-07-04 00:00:00      NaN      NaN      NaN   \n",
              "50%               2012-01-02 00:00:00      NaN      NaN      NaN   \n",
              "75%               2012-07-02 00:00:00      NaN      NaN      NaN   \n",
              "max               2012-12-31 00:00:00      NaN      NaN      NaN   \n",
              "std                               NaN      NaN      NaN      NaN   \n",
              "\n",
              "                  hr  holiday  weekday  workingday  weathersit          temp  \\\n",
              "count   17379.000000  17379.0  17379.0     17379.0     17379.0  17379.000000   \n",
              "unique           NaN      2.0      7.0         2.0         4.0           NaN   \n",
              "top              NaN      0.0      6.0         1.0         1.0           NaN   \n",
              "freq             NaN  16879.0   2512.0     11865.0     11413.0           NaN   \n",
              "mean       11.546752      NaN      NaN         NaN         NaN      0.496987   \n",
              "min         0.000000      NaN      NaN         NaN         NaN      0.020000   \n",
              "25%         6.000000      NaN      NaN         NaN         NaN      0.340000   \n",
              "50%        12.000000      NaN      NaN         NaN         NaN      0.500000   \n",
              "75%        18.000000      NaN      NaN         NaN         NaN      0.660000   \n",
              "max        23.000000      NaN      NaN         NaN         NaN      1.000000   \n",
              "std         6.914405      NaN      NaN         NaN         NaN      0.192556   \n",
              "\n",
              "               atemp           hum     windspeed           cnt  \n",
              "count   17379.000000  17379.000000  17379.000000  17379.000000  \n",
              "unique           NaN           NaN           NaN           NaN  \n",
              "top              NaN           NaN           NaN           NaN  \n",
              "freq             NaN           NaN           NaN           NaN  \n",
              "mean        0.475831      0.628026      0.214433    189.463088  \n",
              "min         0.015200      0.080000      0.089600      1.000000  \n",
              "25%         0.333300      0.480000      0.134300     40.000000  \n",
              "50%         0.484800      0.630000      0.194000    142.000000  \n",
              "75%         0.621200      0.780000      0.253700    281.000000  \n",
              "max         1.000000      1.000000      0.850700    977.000000  \n",
              "std         0.171774      0.191633      0.099215    181.387599  "
            ]
          },
          "execution_count": 41,
          "metadata": {},
          "output_type": "execute_result"
        }
      ],
      "source": [
        "bike_hour.describe(include=\"all\")"
      ]
    },
    {
      "cell_type": "code",
      "execution_count": 42,
      "metadata": {},
      "outputs": [
        {
          "data": {
            "text/plain": [
              "hr\n",
              "17    461.452055\n",
              "18    425.510989\n",
              "8     359.011004\n",
              "16    311.983562\n",
              "19    311.523352\n",
              "13    253.661180\n",
              "12    253.315934\n",
              "15    251.233196\n",
              "14    240.949246\n",
              "20    226.030220\n",
              "9     219.309491\n",
              "7     212.064649\n",
              "11    208.143054\n",
              "10    173.668501\n",
              "21    172.314560\n",
              "22    131.335165\n",
              "23     87.831044\n",
              "6      76.044138\n",
              "0      53.898072\n",
              "1      33.375691\n",
              "2      22.869930\n",
              "5      19.889819\n",
              "3      11.727403\n",
              "4       6.352941\n",
              "Name: cnt, dtype: float64"
            ]
          },
          "execution_count": 42,
          "metadata": {},
          "output_type": "execute_result"
        }
      ],
      "source": [
        "# Analisis jumlah peminjaman berdasarkan jam dalam sehari\n",
        "bike_hour.groupby(by=\"hr\").cnt.mean().sort_values(ascending=False)"
      ]
    },
    {
      "cell_type": "markdown",
      "metadata": {},
      "source": [
        "- Jam `17:00` memiliki rata-rata `peminjaman tertinggi` (461), diikuti oleh jam 18:00 (425) dan jam 08:00 (359).\n",
        "- Peminjaman sepeda lebih tinggi pada jam-jam sibuk (pagi atau sore)\n",
        "- Peminjaman sepeda  paling sedikit terjadi pada jam 03:00–05:00, kemungkinan karena waktu dini hari saat jarang adanya aktivitas."
      ]
    },
    {
      "cell_type": "code",
      "execution_count": 43,
      "metadata": {},
      "outputs": [
        {
          "name": "stderr",
          "output_type": "stream",
          "text": [
            "C:\\Users\\ASUS\\AppData\\Local\\Temp\\ipykernel_7876\\3791445758.py:2: FutureWarning: The default of observed=False is deprecated and will be changed to True in a future version of pandas. Pass observed=False to retain current behavior or observed=True to adopt the future default and silence this warning.\n",
            "  bike_hour.groupby(by=\"weekday\").cnt.mean().sort_values(ascending=False)\n"
          ]
        },
        {
          "data": {
            "text/plain": [
              "weekday\n",
              "4    196.436665\n",
              "5    196.135907\n",
              "2    191.238891\n",
              "3    191.130505\n",
              "6    190.209793\n",
              "1    183.744655\n",
              "0    177.468825\n",
              "Name: cnt, dtype: float64"
            ]
          },
          "execution_count": 43,
          "metadata": {},
          "output_type": "execute_result"
        }
      ],
      "source": [
        "# Analisis jumlah peminjaman berdasarkan hari dalam seminggu\n",
        "bike_hour.groupby(by=\"weekday\").cnt.mean().sort_values(ascending=False)"
      ]
    },
    {
      "cell_type": "markdown",
      "metadata": {},
      "source": [
        "- Hari Kamis (`weekday = 4`) dan Jumat (`weekday = 5`) memiliki rata-rata peminjaman tertinggi.\n",
        "- Peminjaman lebih rendah pada hari Minggu (`weekday = 0`), menunjukkan bahwa sepeda lebih banyak digunakan pada hari kerja."
      ]
    },
    {
      "cell_type": "markdown",
      "metadata": {},
      "source": [
        "**Insight:**\n",
        "- Peminjaman sepeda mencapai puncaknya pada jam sibuk, yaitu pagi (08:00) dan sore (17:00–18:00), hal ini memungkinkan sepeda sering digunakan untuk perjalanan kerja.\n",
        "- Pada hari kerja tren peminjaman lebih tinggi di jam sibuk, sedangkan pada hari libur peminjaman lebih merata dan meningkat pada siang hari (12:00–15:00).\n",
        "- Hari `Kamis` dan `Jumat` memiliki jumlah peminjaman `tertinggi` dalam seminggu, sedangkan `Minggu` memiliki jumlah `terendah`.\n",
        "- Dini hari (jam 1:00–5:00) selalu memiliki jumlah peminjaman yang sangat rendah, baik di hari kerja maupun hari libur."
      ]
    },
    {
      "cell_type": "markdown",
      "metadata": {
        "id": "zsyZjqak8DC2"
      },
      "source": [
        "## Visualization & Explanatory Analysis"
      ]
    },
    {
      "cell_type": "markdown",
      "metadata": {
        "id": "HZxOiQ6n8DC2"
      },
      "source": [
        "### Pertanyaan 1:  Bagaimana pengaruh kondisi cuaca terhadap jumlah peminjaman sepeda?"
      ]
    },
    {
      "cell_type": "code",
      "execution_count": 45,
      "metadata": {},
      "outputs": [
        {
          "name": "stderr",
          "output_type": "stream",
          "text": [
            "C:\\Users\\ASUS\\AppData\\Local\\Temp\\ipykernel_7876\\1274547399.py:3: FutureWarning: \n",
            "\n",
            "Passing `palette` without assigning `hue` is deprecated and will be removed in v0.14.0. Assign the `x` variable to `hue` and set `legend=False` for the same effect.\n",
            "\n",
            "  sns.barplot(x=\"weathersit\", y=\"cnt\", data=bike_day, palette=\"magma\", estimator=np.mean)\n"
          ]
        },
        {
          "data": {
            "image/png": "[encoded data removed]",
            "text/plain": [
              "<Figure size 800x500 with 1 Axes>"
            ]
          },
          "metadata": {},
          "output_type": "display_data"
        }
      ],
      "source": [
        "# Barchart jumlah peminjaman berdasarkan kondisi cuaca\n",
        "plt.figure(figsize=(8, 5))\n",
        "sns.barplot(x=\"weathersit\", y=\"cnt\", data=bike_day, palette=\"magma\", estimator=np.mean)\n",
        "plt.title(\"Total Jumlah Peminjaman Sepeda Berdasarkan Kondisi Cuaca\")\n",
        "plt.xlabel(\"Kondisi Cuaca (1: Cerah, 2: Berawan, 3: Hujan, 4: Cuaca Ekstrem)\")\n",
        "plt.ylabel(\"Total Peminjaman\")\n",
        "plt.show()"
      ]
    },
    {
      "cell_type": "markdown",
      "metadata": {},
      "source": [
        "- Cuaca `cerah` memiliki jumlah peminjaman tertinggi. Hal ini menunjukkan bahwa pengguna lebih banyak meminjam sepeda saat cuaca mendukung.\n",
        "- Saat cuaca `berawan`, jumlah peminjaman masih cukup tinggi tetapi ebih rendah dibanding saat cuaca cerah.\n",
        "- Saat `hujan` jumlah peminjaman turun drastis, hal ini menunjukkan bahwa hujan menjadi faktor utama penurunan peminjaman sepeda.\n",
        "- Kategori `cuaca ekstrem` tidak muncul dalam data ini, kemungkinan karena sangat jarang terjadi atau hampir tidak ada peminjaman sepeda saat kondisi ekstrem."
      ]
    },
    {
      "cell_type": "markdown",
      "metadata": {},
      "source": [
        "### Pertanyaan 2: Apakah ada perbedaan pola peminjaman antara hari kerja dan akhir pekan?"
      ]
    },
    {
      "cell_type": "code",
      "execution_count": 46,
      "metadata": {},
      "outputs": [
        {
          "data": {
            "image/png": "[encoded data removed]",
            "text/plain": [
              "<Figure size 1000x500 with 1 Axes>"
            ]
          },
          "metadata": {},
          "output_type": "display_data"
        }
      ],
      "source": [
        "plt.figure(figsize=(10,5))\n",
        "sns.lineplot(data=bike_hour[bike_hour[\"workingday\"] == 1], x=\"hr\", y=\"cnt\", label=\"Hari Kerja\", color=\"#FF4500\")\n",
        "sns.lineplot(data=bike_hour[bike_hour[\"workingday\"] == 0], x=\"hr\", y=\"cnt\", label=\"Akhir Pekan\", color=\"#FFA07A\")\n",
        "plt.title(\"Pola Peminjaman Sepeda Berdasarkan Hari Kerja dan Akhir Pekan\")\n",
        "plt.xlabel(\"Jam dalah Sehari\")\n",
        "plt.ylabel(\"Jumlah Peminjaman\")\n",
        "plt.legend()\n",
        "plt.show()"
      ]
    },
    {
      "cell_type": "markdown",
      "metadata": {},
      "source": [
        "Terlihat bahwa pola peminjaman sepeda pada hari kerja dan akhir pekan memiliki perbedaan yang signifikan. Pada `hari kerja`, terdapat dua puncak utama pada pagi hari sekitar pukul 8 dan sore hari sekitar pukul 5 sampai 6, yang kemungkinan besar terjadi aktivitas perjalanan kerja atau sekolah. Sementara itu pada `akhir pekan`, pola peminjaman lebih stabil sepanjang hari dengan lonjakan yang terjadi dari siang sampai sore hari. Hal ini menunjukkan bahwa pada akhir pekan, penggunaan sepeda lebih cenderung untuk aktivitas santai."
      ]
    },
    {
      "cell_type": "markdown",
      "metadata": {},
      "source": [
        "### Pertanyaan 3: Kapan waktu dengan permintaan tertinggi dan terendah untuk peminjaman sepeda?"
      ]
    },
    {
      "cell_type": "code",
      "execution_count": 47,
      "metadata": {},
      "outputs": [
        {
          "name": "stderr",
          "output_type": "stream",
          "text": [
            "C:\\Users\\ASUS\\AppData\\Local\\Temp\\ipykernel_7876\\4269915482.py:5: FutureWarning: \n",
            "\n",
            "Passing `palette` without assigning `hue` is deprecated and will be removed in v0.14.0. Assign the `x` variable to `hue` and set `legend=False` for the same effect.\n",
            "\n",
            "  sns.barplot(x=hourly.index, y=hourly.values, palette=\"magma\")\n"
          ]
        },
        {
          "data": {
            "image/png": "[encoded data removed]",
            "text/plain": [
              "<Figure size 1000x500 with 1 Axes>"
            ]
          },
          "metadata": {},
          "output_type": "display_data"
        }
      ],
      "source": [
        "# Mengitung rata-rata peminjaman per jam\n",
        "hourly = bike_hour.groupby(\"hr\")[\"cnt\"].mean()\n",
        "\n",
        "plt.figure(figsize=(10, 5))\n",
        "sns.barplot(x=hourly.index, y=hourly.values, palette=\"magma\")\n",
        "plt.xlabel(\"Jam dalam Sehari\")\n",
        "plt.ylabel(\"Rata-rata Jumlah Peminjaman\")\n",
        "plt.title(\"Rata-rata Peminjaman Sepeda per Jam\")\n",
        "plt.xticks(range(24))  # Pastikan sumbu x menampilkan semua jam (0-23)\n",
        "plt.grid(axis=\"y\", linestyle=\"--\", alpha=0.7)  # Tambahkan grid untuk kejelasan\n",
        "plt.show()"
      ]
    },
    {
      "cell_type": "markdown",
      "metadata": {},
      "source": [
        "- Terlihat bahwa `permintaan tertinggi` terjadi pada pukul 5 sampai 6 sore, yang kemungkinan besar terjadi aktivitas setelah jam kerja. Selain itu terdapat peningkatan lain sekitar pukul 7 sampai 9 pagi, yaitu pada saat jam berangkat kerja atau sekolah.\n",
        "- Sebaliknya, `permintaan terendah` terjadi pada dini hari antara pukul 2 hingga 5 pagi, di mana aktivitas umum masih rendah sehingga sangat sedikit pengguna yang menyewa sepeda."
      ]
    },
    {
      "cell_type": "markdown",
      "metadata": {
        "id": "9y4VUsmcYNZ5"
      },
      "source": [
        "## Analisis Clustering (Lanjutan)"
      ]
    },
    {
      "cell_type": "markdown",
      "metadata": {},
      "source": [
        "Pada analisis ini, akan dikelompokkan waktu dalam sehari ke dalam empat kategori utama: <br>\n",
        "- Pagi: 05:00 - 11:59\n",
        "- Siang: 12:00 - 16:59\n",
        "- Sore-Malam: 17:00 - 20:59\n",
        "- Malam-Dini Hari: 21:00 - 04:59"
      ]
    },
    {
      "cell_type": "markdown",
      "metadata": {},
      "source": [
        "Tujuan dari analisis ini adalah untuk memahami pola peminjaman sepeda berdasarkan kelompok waktu dalam sehari"
      ]
    },
    {
      "cell_type": "code",
      "execution_count": 48,
      "metadata": {},
      "outputs": [
        {
          "name": "stdout",
          "output_type": "stream",
          "text": [
            "time_category\n",
            "Afternoon    262.244719\n",
            "Evening      356.201441\n",
            "Morning      181.520583\n",
            "Night         65.687968\n",
            "Name: cnt, dtype: float64\n"
          ]
        },
        {
          "name": "stderr",
          "output_type": "stream",
          "text": [
            "C:\\Users\\ASUS\\AppData\\Local\\Temp\\ipykernel_7876\\668481517.py:18: FutureWarning: \n",
            "\n",
            "Passing `palette` without assigning `hue` is deprecated and will be removed in v0.14.0. Assign the `x` variable to `hue` and set `legend=False` for the same effect.\n",
            "\n",
            "  sns.barplot(x=cluster.index, y=cluster.values, palette=\"magma\")\n"
          ]
        },
        {
          "data": {
            "image/png": "[encoded data removed]",
            "text/plain": [
              "<Figure size 800x500 with 1 Axes>"
            ]
          },
          "metadata": {},
          "output_type": "display_data"
        }
      ],
      "source": [
        "def categorize_hour(hr):\n",
        "    if 5 <= hr < 12:\n",
        "        return \"Morning\"\n",
        "    elif 12 <= hr < 17:\n",
        "        return \"Afternoon\"\n",
        "    elif 17 <= hr < 21:\n",
        "        return \"Evening\"\n",
        "    else:\n",
        "        return \"Night\"\n",
        "\n",
        "bike_hour[\"time_category\"] = bike_hour[\"hr\"].apply(categorize_hour)\n",
        "\n",
        "# Menghitung jumlah peminjaman untuk setiap kategori waktu\n",
        "cluster = bike_hour.groupby(\"time_category\").cnt.mean()\n",
        "print(cluster)\n",
        "\n",
        "plt.figure(figsize=(8,5))\n",
        "sns.barplot(x=cluster.index, y=cluster.values, palette=\"magma\")\n",
        "plt.title(\"Jumlah Peminjaman Sepeda Berdasarkan Rentang Waktu\")\n",
        "plt.xlabel(\"Rentang Waktu\")\n",
        "plt.ylabel(\"Jumlah Peminjaman\")\n",
        "plt.show()"
      ]
    },
    {
      "cell_type": "markdown",
      "metadata": {},
      "source": [
        "- Peminjaman `tertinggi` terjadi pada sore hingga malam, kemungkinan karena jam pulang kerja/sekolah.\n",
        "- Peminjaman pada siang hari juga cukup ramai, memungkinkan jam istirahat dan aktivitas luar ruangan.\n",
        "- Pada pagi hari jumlah peminjaman sedang, umumnya untuk berangkat kerja atau sekolah.\n",
        "- dan pada malam hari peminjangan sepeda sedikit."
      ]
    },
    {
      "cell_type": "markdown",
      "metadata": {
        "id": "_WeHlCeX8DC2"
      },
      "source": [
        "## Conclusion"
      ]
    },
    {
      "cell_type": "markdown",
      "metadata": {
        "id": "ZTcyR48Y8DC2"
      },
      "source": [
        "#### **Conclusion `pertanyaan 1`**: *Bagaimana pengaruh kondisi cuaca terhadap jumlah peminjaman sepeda?* <br>\n",
        "Cuaca memengaruhi jumlah peminjaman sepeda secara signifikan. Peminjaman paling tinggi terjadi saat cuaca cerah (weathersit = 1), sementara saat hujan atau cuaca ekstrem, jumlah peminjaman menurun drastis. Hal ini menunjukkan bahwa kondisi cuaca yang buruk menjadi hambatan utama dalam penggunaan sepeda.\n",
        "\n",
        "#### **Conclusion `pertanyaan 2`**: *Apakah ada perbedaan pola peminjaman antara hari kerja dan akhir pekan?* <br>\n",
        "Pola peminjaman berbeda antara hari kerja dan akhir pekan. Pada hari kerja, peminjaman cenderung meningkat saat pagi (jam berangkat kerja) dan sore (jam pulang kerja). Sedangkan pada akhir pekan, pola lebih merata sepanjang hari, menunjukkan bahwa sepeda lebih sering digunakan untuk rekreasi atau aktivitas santai.\n",
        "\n",
        "#### **Conclusion `pertanyaan 3`**: *Kapan waktu dengan permintaan tertinggi dan terendah untuk peminjaman sepeda?*\n",
        "Peminjaman sepeda mengalami puncak tertinggi di sore hingga malam hari, sekitar pukul 17:00 - 18:00, kemungkinan karena aktivitas pulang kerja atau sekolah. Sementara itu, peminjaman paling sedikit terjadi di dini hari (02:00 - 05:00), menunjukkan bahwa sepeda jarang digunakan pada waktu tersebut.\n",
        "\n",
        "#### **Conclusion `Analisis Clustering (lanjutan)`**\n",
        "Peminjaman sepeda paling tinggi di sore hari, diikuti oleh siang hari dan pagi hari. Peminjaman paling rendah terjadi di malam hari, kemungkinan karena minimnya aktivitas serta faktor keamanan.\n"
      ]
    },
    {
      "cell_type": "code",
      "execution_count": 52,
      "metadata": {},
      "outputs": [],
      "source": [
        "import pipreqs"
      ]
    },
    {
      "cell_type": "code",
      "execution_count": 49,
      "metadata": {},
      "outputs": [
        {
          "name": "stdout",
          "output_type": "stream",
          "text": [
            "absl-py==2.1.0\n",
            "altair==5.5.0\n",
            "annotated-types==0.6.0\n",
            "asttokens==2.4.1\n",
            "astunparse==1.6.3\n",
            "attrs==23.2.0\n",
            "babel==2.17.0\n",
            "bayesian-optimization==1.4.3\n",
            "beautifulsoup4==4.12.3\n",
            "blinker==1.9.0\n",
            "cachetools==5.5.2\n",
            "catboost==1.2.3\n",
            "certifi==2024.2.2\n",
            "charset-normalizer==3.3.2\n",
            "clarabel==0.9.0\n",
            "click==8.1.7\n",
            "cloudpickle==3.0.0\n",
            "cmdstanpy==1.2.3\n",
            "colorama==0.4.6\n",
            "comm==0.2.1\n",
            "contourpy==1.2.0\n",
            "cvxpy==1.6.0\n",
            "cycler==0.12.1\n",
            "dacite==1.8.1\n",
            "debugpy==1.8.1\n",
            "decorator==5.1.1\n",
            "et-xmlfile==1.1.0\n",
            "executing==2.0.1\n",
            "fast-ml==3.68\n",
            "fastdtw==0.3.4\n",
            "flatbuffers==24.3.25\n",
            "fonttools==4.49.0\n",
            "frozendict==2.4.5\n",
            "future==1.0.0\n",
            "gast==0.5.4\n",
            "gitdb==4.0.12\n",
            "GitPython==3.1.44\n",
            "google-pasta==0.2.0\n",
            "graphviz==0.20.3\n",
            "grpcio==1.64.0\n",
            "h5py==3.11.0\n",
            "holidays==0.50\n",
            "html5lib==1.1\n",
            "htmlmin==0.1.12\n",
            "hyperopt==0.2.7\n",
            "idna==3.6\n",
            "ImageHash==4.3.1\n",
            "imageio==2.34.1\n",
            "imbalanced-learn==0.12.2\n",
            "importlib_resources==6.4.0\n",
            "ipykernel==6.29.3\n",
            "ipython==8.22.2\n",
            "ipython-autotime==0.3.2\n",
            "ipython-genutils==0.2.0\n",
            "ipywidgets==8.1.2\n",
            "jedi==0.19.1\n",
            "Jinja2==3.1.3\n",
            "joblib==1.3.2\n",
            "jsonschema==4.21.1\n",
            "jsonschema-specifications==2023.12.1\n",
            "jupyter_client==8.6.0\n",
            "jupyter_core==5.7.1\n",
            "jupyterlab_widgets==3.0.10\n",
            "keras==3.3.3\n",
            "kiwisolver==1.4.5\n",
            "kmodes==0.12.2\n",
            "lazy_loader==0.4\n",
            "libclang==18.1.1\n",
            "lime==0.2.0.1\n",
            "llvmlite==0.41.1\n",
            "lxml==5.3.0\n",
            "Markdown==3.6\n",
            "markdown-it-py==3.0.0\n",
            "MarkupSafe==2.1.5\n",
            "matplotlib==3.8.3\n",
            "matplotlib-inline==0.1.6\n",
            "mdurl==0.1.2\n",
            "MiniSom==2.3.2\n",
            "missingno==0.5.2\n",
            "ml-dtypes==0.3.2\n",
            "mlxtend==0.23.1\n",
            "multimethod==1.11.2\n",
            "multitasking==0.0.11\n",
            "namex==0.0.8\n",
            "narwhals==1.29.0\n",
            "nbformat==5.1.2\n",
            "nest-asyncio==1.6.0\n",
            "networkx==3.2.1\n",
            "nltk==3.8.1\n",
            "numba==0.58.1\n",
            "numpy==1.25.2\n",
            "openpyxl==3.1.2\n",
            "opt-einsum==3.3.0\n",
            "optree==0.11.0\n",
            "osqp==0.6.7.post3\n",
            "packaging==23.2\n",
            "pandas==2.2.1\n",
            "parso==0.8.3\n",
            "patsy==0.5.6\n",
            "peewee==3.17.6\n",
            "phik==0.12.4\n",
            "pillow==10.2.0\n",
            "platformdirs==4.2.0\n",
            "plotly==5.20.0\n",
            "prompt-toolkit==3.0.43\n",
            "prophet==1.1.5\n",
            "protobuf==4.25.3\n",
            "psutil==5.9.8\n",
            "pure-eval==0.2.2\n",
            "py4j==0.10.9.7\n",
            "pyarrow==19.0.1\n",
            "pydantic==2.6.3\n",
            "pydantic_core==2.16.3\n",
            "pydeck==0.9.1\n",
            "Pygments==2.17.2\n",
            "pyparsing==3.1.2\n",
            "python-dateutil==2.9.0.post0\n",
            "pytz==2024.1\n",
            "PyWavelets==1.5.0\n",
            "pywin32==306\n",
            "PyYAML==6.0.1\n",
            "pyzmq==25.1.2\n",
            "qdldl==0.1.7.post4\n",
            "referencing==0.34.0\n",
            "regex==2024.5.15\n",
            "requests==2.31.0\n",
            "rich==13.7.1\n",
            "rpds-py==0.18.0\n",
            "Sastrawi==1.0.1\n",
            "scikit-image==0.23.2\n",
            "scikit-learn==1.4.1.post1\n",
            "scikit-learn-extra==0.3.0\n",
            "scipy==1.11.4\n",
            "scs==3.2.7\n",
            "seaborn==0.13.2\n",
            "shap==0.45.1\n",
            "simpy==4.1.1\n",
            "six==1.16.0\n",
            "slicer==0.0.8\n",
            "smmap==5.0.2\n",
            "soupsieve==2.5\n",
            "stack-data==0.6.3\n",
            "stanio==0.5.0\n",
            "statsmodels==0.14.1\n",
            "streamlit==1.43.0\n",
            "tabulate==0.9.0\n",
            "tangled-up-in-unicode==0.2.0\n",
            "tenacity==8.2.3\n",
            "tensorboard==2.16.2\n",
            "tensorboard-data-server==0.7.2\n",
            "tensorflow==2.16.1\n",
            "tensorflow-intel==2.16.1\n",
            "tensorflow-io-gcs-filesystem==0.31.0\n",
            "termcolor==2.4.0\n",
            "threadpoolctl==3.4.0\n",
            "tifffile==2024.5.22\n",
            "toml==0.10.2\n",
            "tornado==6.4\n",
            "tqdm==4.66.2\n",
            "traitlets==5.14.1\n",
            "tslearn==0.6.3\n",
            "typeguard==4.1.5\n",
            "typing_extensions==4.10.0\n",
            "tzdata==2024.1\n",
            "urllib3==2.2.1\n",
            "visions==0.7.5\n",
            "watchdog==6.0.0\n",
            "wcwidth==0.2.13\n",
            "webencodings==0.5.1\n",
            "Werkzeug==3.0.3\n",
            "widgetsnbextension==4.0.10\n",
            "wordcloud==1.9.3\n",
            "wrapt==1.16.0\n",
            "xgboost==2.0.3\n",
            "ydata-profiling==4.6.5\n",
            "yellowbrick==1.5\n",
            "yfinance==0.2.44\n",
            "Note: you may need to restart the kernel to use updated packages.\n"
          ]
        }
      ],
      "source": [
        " pip freeze requirements.txt"
      ]
    }
  ],
  "metadata": {
    "colab": {
      "provenance": []
    },
    "kernelspec": {
      "display_name": "Python 3",
      "language": "python",
      "name": "python3"
    },
    "language_info": {
      "codemirror_mode": {
        "name": "ipython",
        "version": 3
      },
      "file_extension": ".py",
      "mimetype": "text/x-python",
      "name": "python",
      "nbconvert_exporter": "python",
      "pygments_lexer": "ipython3",
      "version": "3.11.0"
    },
    "orig_nbformat": 4,
    "vscode": {
      "interpreter": {
        "hash": "972b3bf27e332e87b5379f2791f6ef9dfc79c71018c370b0d7423235e20fe4d7"
      }
    }
  },
  "nbformat": 4,
  "nbformat_minor": 0
}
